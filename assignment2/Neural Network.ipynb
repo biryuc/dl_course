{
 "cells": [
  {
   "cell_type": "markdown",
   "metadata": {},
   "source": [
    "# Задание 2.1 - Нейронные сети\n",
    "\n",
    "В этом задании вы реализуете и натренируете настоящую нейроную сеть своими руками!\n",
    "\n",
    "В некотором смысле это будет расширением прошлого задания - нам нужно просто составить несколько линейных классификаторов вместе!\n",
    "\n",
    "<img src=\"https://i.redd.it/n9fgba8b0qr01.png\" alt=\"Stack_more_layers\" width=\"400px\"/>"
   ]
  },
  {
   "cell_type": "code",
   "execution_count": 1,
   "metadata": {},
   "outputs": [],
   "source": [
    "import numpy as np\n",
    "import matplotlib.pyplot as plt\n",
    "\n",
    "%matplotlib inline\n",
    "\n",
    "%load_ext autoreload\n",
    "%autoreload 2"
   ]
  },
  {
   "cell_type": "code",
   "execution_count": 2,
   "metadata": {},
   "outputs": [],
   "source": [
    "from dataset import load_svhn, random_split_train_val\n",
    "from gradient_check import check_layer_gradient, check_layer_param_gradient, check_model_gradient\n",
    "from layers import FullyConnectedLayer, ReLULayer\n",
    "from model import TwoLayerNet\n",
    "from trainer import Trainer, Dataset\n",
    "from optim import SGD, MomentumSGD\n",
    "from metrics import multiclass_accuracy"
   ]
  },
  {
   "cell_type": "markdown",
   "metadata": {},
   "source": [
    "# Загружаем данные\n",
    "\n",
    "И разделяем их на training и validation."
   ]
  },
  {
   "cell_type": "code",
   "execution_count": 3,
   "metadata": {},
   "outputs": [
    {
     "name": "stderr",
     "output_type": "stream",
     "text": [
      "C:\\Users\\Никита\\AppData\\Local\\Temp\\ipykernel_4720\\2810386256.py:2: DeprecationWarning: `np.float` is a deprecated alias for the builtin `float`. To silence this warning, use `float` by itself. Doing this will not modify any behavior and is safe. If you specifically wanted the numpy scalar type, use `np.float64` here.\n",
      "Deprecated in NumPy 1.20; for more details and guidance: https://numpy.org/devdocs/release/1.20.0-notes.html#deprecations\n",
      "  train_flat = train_X.reshape(train_X.shape[0], -1).astype(np.float) / 255.0\n",
      "C:\\Users\\Никита\\AppData\\Local\\Temp\\ipykernel_4720\\2810386256.py:3: DeprecationWarning: `np.float` is a deprecated alias for the builtin `float`. To silence this warning, use `float` by itself. Doing this will not modify any behavior and is safe. If you specifically wanted the numpy scalar type, use `np.float64` here.\n",
      "Deprecated in NumPy 1.20; for more details and guidance: https://numpy.org/devdocs/release/1.20.0-notes.html#deprecations\n",
      "  test_flat = test_X.reshape(test_X.shape[0], -1).astype(np.float) / 255.0\n"
     ]
    }
   ],
   "source": [
    "def prepare_for_neural_network(train_X, test_X):\n",
    "    train_flat = train_X.reshape(train_X.shape[0], -1).astype(np.float) / 255.0\n",
    "    test_flat = test_X.reshape(test_X.shape[0], -1).astype(np.float) / 255.0\n",
    "    \n",
    "    # Subtract mean\n",
    "    mean_image = np.mean(train_flat, axis = 0)\n",
    "    train_flat -= mean_image\n",
    "    test_flat -= mean_image\n",
    "    \n",
    "    return train_flat, test_flat\n",
    "    \n",
    "train_X, train_y, test_X, test_y = load_svhn(\"data\", max_train=10000, max_test=1000)    \n",
    "train_X, test_X = prepare_for_neural_network(train_X, test_X)\n",
    "# Split train into train and val\n",
    "train_X, train_y, val_X, val_y = random_split_train_val(train_X, train_y, num_val = 1000)"
   ]
  },
  {
   "cell_type": "markdown",
   "metadata": {},
   "source": [
    "# Как всегда, начинаем с кирпичиков\n",
    "\n",
    "Мы будем реализовывать необходимые нам слои по очереди. Каждый слой должен реализовать:\n",
    "- прямой проход (forward pass), который генерирует выход слоя по входу и запоминает необходимые данные\n",
    "- обратный проход (backward pass), который получает градиент по выходу слоя и вычисляет градиент по входу и по параметрам\n",
    "\n",
    "Начнем с ReLU, у которого параметров нет."
   ]
  },
  {
   "cell_type": "code",
   "execution_count": 4,
   "metadata": {
    "scrolled": false
   },
   "outputs": [
    {
     "name": "stdout",
     "output_type": "stream",
     "text": [
      "Gradient check passed!\n"
     ]
    }
   ],
   "source": [
    "# TODO: Implement ReLULayer layer in layers.py\n",
    "# Note: you'll need to copy implementation of the gradient_check function from the previous assignment\n",
    "\n",
    "X = np.array([[1,-2,3],\n",
    "              [-1, 2, 0.1]\n",
    "              ])\n",
    "\n",
    "assert check_layer_gradient(ReLULayer(), X)"
   ]
  },
  {
   "cell_type": "markdown",
   "metadata": {},
   "source": [
    "А теперь реализуем полносвязный слой (fully connected layer), у которого будет два массива параметров: W (weights) и B (bias).\n",
    "\n",
    "Все параметры наши слои будут использовать для параметров специальный класс `Param`, в котором будут храниться значения параметров и градиенты этих параметров, вычисляемые во время обратного прохода.\n",
    "\n",
    "Это даст возможность аккумулировать (суммировать) градиенты из разных частей функции потерь, например, из cross-entropy loss и regularization loss."
   ]
  },
  {
   "cell_type": "code",
   "execution_count": 5,
   "metadata": {},
   "outputs": [
    {
     "name": "stdout",
     "output_type": "stream",
     "text": [
      "Gradient check passed!\n",
      "Gradient check passed!\n",
      "Gradient check passed!\n"
     ]
    }
   ],
   "source": [
    "# TODO: Implement FullyConnected layer forward and backward methods\n",
    "assert check_layer_gradient(FullyConnectedLayer(3, 4), X)\n",
    "# TODO: Implement storing gradients for W and B\n",
    "assert check_layer_param_gradient(FullyConnectedLayer(3, 4), X, 'W')\n",
    "assert check_layer_param_gradient(FullyConnectedLayer(3, 4), X, 'B')"
   ]
  },
  {
   "cell_type": "markdown",
   "metadata": {},
   "source": [
    "## Создаем нейронную сеть\n",
    "\n",
    "Теперь мы реализуем простейшую нейронную сеть с двумя полносвязным слоями и нелинейностью ReLU. Реализуйте функцию `compute_loss_and_gradients`, она должна запустить прямой и обратный проход через оба слоя для вычисления градиентов.\n",
    "\n",
    "Не забудьте реализовать очистку градиентов в начале функции."
   ]
  },
  {
   "cell_type": "code",
   "execution_count": 9,
   "metadata": {},
   "outputs": [
    {
     "name": "stdout",
     "output_type": "stream",
     "text": [
      "Checking gradient for flw\n",
      "Gradient check passed!\n",
      "Checking gradient for flb\n",
      "Gradient check passed!\n",
      "Checking gradient for slw\n",
      "Gradient check passed!\n",
      "Checking gradient for slb\n",
      "Gradient check passed!\n"
     ]
    },
    {
     "data": {
      "text/plain": [
       "True"
      ]
     },
     "execution_count": 9,
     "metadata": {},
     "output_type": "execute_result"
    }
   ],
   "source": [
    "# TODO: In model.py, implement compute_loss_and_gradients function\n",
    "model = TwoLayerNet(n_input = train_X.shape[1], n_output = 10, hidden_layer_size = 3, reg = 0)\n",
    "loss = model.compute_loss_and_gradients(train_X[:2], train_y[:2])\n",
    "\n",
    "# TODO Now implement backward pass and aggregate all of the params\n",
    "check_model_gradient(model, train_X[:2], train_y[:2])"
   ]
  },
  {
   "cell_type": "markdown",
   "metadata": {},
   "source": [
    "Теперь добавьте к модели регуляризацию - она должна прибавляться к loss и делать свой вклад в градиенты."
   ]
  },
  {
   "cell_type": "code",
   "execution_count": 10,
   "metadata": {},
   "outputs": [
    {
     "name": "stdout",
     "output_type": "stream",
     "text": [
      "Checking gradient for flw\n",
      "Gradient check passed!\n",
      "Checking gradient for flb\n",
      "Gradient check passed!\n",
      "Checking gradient for slw\n",
      "Gradient check passed!\n",
      "Checking gradient for slb\n",
      "Gradient check passed!\n"
     ]
    },
    {
     "data": {
      "text/plain": [
       "True"
      ]
     },
     "execution_count": 10,
     "metadata": {},
     "output_type": "execute_result"
    }
   ],
   "source": [
    "# TODO Now implement l2 regularization in the forward and backward pass\n",
    "model_with_reg = TwoLayerNet(n_input = train_X.shape[1], n_output = 10, hidden_layer_size = 3, reg = 1e1)\n",
    "loss_with_reg = model_with_reg.compute_loss_and_gradients(train_X[:2], train_y[:2])\n",
    "assert loss_with_reg > loss and not np.isclose(loss_with_reg, loss), \\\n",
    "    \"Loss with regularization (%2.4f) should be higher than without it (%2.4f)!\" % (loss, loss_with_reg)\n",
    "\n",
    "check_model_gradient(model_with_reg, train_X[:2], train_y[:2])"
   ]
  },
  {
   "cell_type": "markdown",
   "metadata": {},
   "source": [
    "Также реализуем функцию предсказания (вычисления значения) модели на новых данных.\n",
    "\n",
    "Какое значение точности мы ожидаем увидеть до начала тренировки?"
   ]
  },
  {
   "cell_type": "code",
   "execution_count": 12,
   "metadata": {},
   "outputs": [
    {
     "data": {
      "text/plain": [
       "0.1"
      ]
     },
     "execution_count": 12,
     "metadata": {},
     "output_type": "execute_result"
    }
   ],
   "source": [
    "# Finally, implement predict function!\n",
    "\n",
    "# TODO: Implement predict function\n",
    "# What would be the value we expect?\n",
    "multiclass_accuracy(model_with_reg.predict(train_X[:30]), train_y[:30]) "
   ]
  },
  {
   "cell_type": "markdown",
   "metadata": {},
   "source": [
    "# Допишем код для процесса тренировки\n",
    "\n",
    "Если все реализовано корректно, значение функции ошибки должно уменьшаться с каждой эпохой, пусть и медленно. Не беспокойтесь пока про validation accuracy."
   ]
  },
  {
   "cell_type": "code",
   "execution_count": 13,
   "metadata": {},
   "outputs": [
    {
     "name": "stdout",
     "output_type": "stream",
     "text": [
      "Loss: 2.302933, Train accuracy: 0.196667, val accuracy: 0.206000\n",
      "Loss: 2.303174, Train accuracy: 0.196667, val accuracy: 0.206000\n",
      "Loss: 2.302523, Train accuracy: 0.196667, val accuracy: 0.206000\n",
      "Loss: 2.301637, Train accuracy: 0.196667, val accuracy: 0.206000\n",
      "Loss: 2.302255, Train accuracy: 0.196667, val accuracy: 0.206000\n",
      "Loss: 2.302425, Train accuracy: 0.196667, val accuracy: 0.206000\n",
      "Loss: 2.301941, Train accuracy: 0.196667, val accuracy: 0.206000\n",
      "Loss: 2.301752, Train accuracy: 0.196667, val accuracy: 0.206000\n",
      "Loss: 2.301926, Train accuracy: 0.196667, val accuracy: 0.206000\n",
      "Loss: 2.302355, Train accuracy: 0.196667, val accuracy: 0.206000\n",
      "Loss: 2.301829, Train accuracy: 0.196667, val accuracy: 0.206000\n",
      "Loss: 2.301726, Train accuracy: 0.196667, val accuracy: 0.206000\n",
      "Loss: 2.302908, Train accuracy: 0.196667, val accuracy: 0.206000\n",
      "Loss: 2.302663, Train accuracy: 0.148222, val accuracy: 0.140000\n",
      "Loss: 2.301058, Train accuracy: 0.196667, val accuracy: 0.206000\n",
      "Loss: 2.302695, Train accuracy: 0.196667, val accuracy: 0.206000\n",
      "Loss: 2.302288, Train accuracy: 0.196667, val accuracy: 0.206000\n",
      "Loss: 2.302226, Train accuracy: 0.148222, val accuracy: 0.140000\n",
      "Loss: 2.301984, Train accuracy: 0.148222, val accuracy: 0.140000\n",
      "Loss: 2.302999, Train accuracy: 0.196667, val accuracy: 0.206000\n"
     ]
    }
   ],
   "source": [
    "model = TwoLayerNet(n_input = train_X.shape[1], n_output = 10, hidden_layer_size = 100, reg = 1e1)\n",
    "dataset = Dataset(train_X, train_y, val_X, val_y)\n",
    "trainer = Trainer(model, dataset, SGD(), learning_rate = 1e-2)\n",
    "\n",
    "# TODO Implement missing pieces in Trainer.fit function\n",
    "# You should expect loss to go down every epoch, even if it's slow\n",
    "loss_history, train_history, val_history = trainer.fit()"
   ]
  },
  {
   "cell_type": "code",
   "execution_count": 14,
   "metadata": {},
   "outputs": [
    {
     "data": {
      "text/plain": [
       "[<matplotlib.lines.Line2D at 0x241c564aa00>]"
      ]
     },
     "execution_count": 14,
     "metadata": {},
     "output_type": "execute_result"
    },
    {
     "data": {
      "image/png": "[encoded data removed]",
      "text/plain": [
       "<Figure size 432x288 with 1 Axes>"
      ]
     },
     "metadata": {
      "needs_background": "light"
     },
     "output_type": "display_data"
    }
   ],
   "source": [
    "plt.plot(train_history)\n",
    "plt.plot(val_history)"
   ]
  },
  {
   "cell_type": "markdown",
   "metadata": {},
   "source": [
    "# Улучшаем процесс тренировки\n",
    "\n",
    "Мы реализуем несколько ключевых оптимизаций, необходимых для тренировки современных нейросетей."
   ]
  },
  {
   "cell_type": "markdown",
   "metadata": {},
   "source": [
    "## Уменьшение скорости обучения (learning rate decay)\n",
    "\n",
    "Одна из необходимых оптимизаций во время тренировки нейронных сетей - постепенное уменьшение скорости обучения по мере тренировки.\n",
    "\n",
    "Один из стандартных методов - уменьшение скорости обучения (learning rate) каждые N эпох на коэффициент d (часто называемый decay). Значения N и d, как всегда, являются гиперпараметрами и должны подбираться на основе эффективности на проверочных данных (validation data). \n",
    "\n",
    "В нашем случае N будет равным 1."
   ]
  },
  {
   "cell_type": "code",
   "execution_count": 15,
   "metadata": {},
   "outputs": [
    {
     "name": "stdout",
     "output_type": "stream",
     "text": [
      "Loss: 2.310373, Train accuracy: 0.196667, val accuracy: 0.206000\n",
      "Loss: 2.378598, Train accuracy: 0.196667, val accuracy: 0.206000\n",
      "Loss: 2.198760, Train accuracy: 0.196667, val accuracy: 0.206000\n",
      "Loss: 2.274655, Train accuracy: 0.196667, val accuracy: 0.206000\n",
      "Loss: 2.282937, Train accuracy: 0.196667, val accuracy: 0.206000\n",
      "Loss: 2.293897, Train accuracy: 0.196667, val accuracy: 0.206000\n",
      "Loss: 2.247392, Train accuracy: 0.196667, val accuracy: 0.206000\n",
      "Loss: 2.183973, Train accuracy: 0.196667, val accuracy: 0.206000\n",
      "Loss: 2.274111, Train accuracy: 0.196667, val accuracy: 0.206000\n",
      "Loss: 2.258373, Train accuracy: 0.196667, val accuracy: 0.206000\n",
      "Loss: 2.278779, Train accuracy: 0.196667, val accuracy: 0.206000\n",
      "Loss: 2.251327, Train accuracy: 0.196667, val accuracy: 0.206000\n",
      "Loss: 2.326553, Train accuracy: 0.196667, val accuracy: 0.206000\n",
      "Loss: 2.243008, Train accuracy: 0.196667, val accuracy: 0.206000\n",
      "Loss: 2.191461, Train accuracy: 0.196667, val accuracy: 0.206000\n",
      "Loss: 2.213709, Train accuracy: 0.196667, val accuracy: 0.206000\n",
      "Loss: 2.184913, Train accuracy: 0.196667, val accuracy: 0.206000\n",
      "Loss: 2.232028, Train accuracy: 0.196667, val accuracy: 0.206000\n",
      "Loss: 2.228820, Train accuracy: 0.196667, val accuracy: 0.206000\n",
      "Loss: 2.223736, Train accuracy: 0.196667, val accuracy: 0.206000\n"
     ]
    }
   ],
   "source": [
    "# TODO Implement learning rate decay inside Trainer.fit method\n",
    "# Decay should happen once per epoch\n",
    "\n",
    "model = TwoLayerNet(n_input = train_X.shape[1], n_output = 10, hidden_layer_size = 100, reg = 1e-1)\n",
    "dataset = Dataset(train_X, train_y, val_X, val_y)\n",
    "trainer = Trainer(model, dataset, SGD(), learning_rate_decay=0.99)\n",
    "\n",
    "initial_learning_rate = trainer.learning_rate\n",
    "loss_history, train_history, val_history = trainer.fit()\n",
    "\n",
    "assert trainer.learning_rate < initial_learning_rate, \"Learning rate should've been reduced\"\n",
    "assert trainer.learning_rate > 0.5*initial_learning_rate, \"Learning rate shouldn'tve been reduced that much!\""
   ]
  },
  {
   "cell_type": "markdown",
   "metadata": {},
   "source": [
    "# Накопление импульса (Momentum SGD)\n",
    "\n",
    "Другой большой класс оптимизаций - использование более эффективных методов градиентного спуска. Мы реализуем один из них - накопление импульса (Momentum SGD).\n",
    "\n",
    "Этот метод хранит скорость движения, использует градиент для ее изменения на каждом шаге, и изменяет веса пропорционально значению скорости.\n",
    "(Физическая аналогия: Вместо скорости градиенты теперь будут задавать ускорение, но будет присутствовать сила трения.)\n",
    "\n",
    "```\n",
    "velocity = momentum * velocity - learning_rate * gradient \n",
    "w = w + velocity\n",
    "```\n",
    "\n",
    "`momentum` здесь коэффициент затухания, который тоже является гиперпараметром (к счастью, для него часто есть хорошее значение по умолчанию, типичный диапазон -- 0.8-0.99).\n",
    "\n",
    "Несколько полезных ссылок, где метод разбирается более подробно:  \n",
    "http://cs231n.github.io/neural-networks-3/#sgd  \n",
    "https://distill.pub/2017/momentum/"
   ]
  },
  {
   "cell_type": "code",
   "execution_count": 16,
   "metadata": {},
   "outputs": [
    {
     "name": "stdout",
     "output_type": "stream",
     "text": [
      "Loss: 2.324401, Train accuracy: 0.196667, val accuracy: 0.206000\n",
      "Loss: 2.314594, Train accuracy: 0.196667, val accuracy: 0.206000\n",
      "Loss: 2.327387, Train accuracy: 0.196667, val accuracy: 0.206000\n",
      "Loss: 2.321171, Train accuracy: 0.196667, val accuracy: 0.206000\n",
      "Loss: 2.297709, Train accuracy: 0.196667, val accuracy: 0.206000\n",
      "Loss: 2.281858, Train accuracy: 0.196667, val accuracy: 0.206000\n",
      "Loss: 2.282616, Train accuracy: 0.196667, val accuracy: 0.206000\n",
      "Loss: 2.293367, Train accuracy: 0.196667, val accuracy: 0.206000\n",
      "Loss: 2.275925, Train accuracy: 0.196667, val accuracy: 0.206000\n",
      "Loss: 2.264623, Train accuracy: 0.196667, val accuracy: 0.206000\n",
      "Loss: 2.297854, Train accuracy: 0.196667, val accuracy: 0.206000\n",
      "Loss: 2.264901, Train accuracy: 0.196667, val accuracy: 0.206000\n",
      "Loss: 2.291612, Train accuracy: 0.196667, val accuracy: 0.206000\n",
      "Loss: 2.306387, Train accuracy: 0.196667, val accuracy: 0.206000\n",
      "Loss: 2.299603, Train accuracy: 0.196667, val accuracy: 0.206000\n",
      "Loss: 2.280959, Train accuracy: 0.196667, val accuracy: 0.206000\n",
      "Loss: 2.282548, Train accuracy: 0.196667, val accuracy: 0.206000\n",
      "Loss: 2.268766, Train accuracy: 0.196667, val accuracy: 0.206000\n",
      "Loss: 2.239653, Train accuracy: 0.196667, val accuracy: 0.206000\n",
      "Loss: 2.279417, Train accuracy: 0.196667, val accuracy: 0.206000\n"
     ]
    }
   ],
   "source": [
    "# TODO: Implement MomentumSGD.update function in optim.py\n",
    "\n",
    "model = TwoLayerNet(n_input = train_X.shape[1], n_output = 10, hidden_layer_size = 100, reg = 1e-1)\n",
    "dataset = Dataset(train_X, train_y, val_X, val_y)\n",
    "trainer = Trainer(model, dataset, MomentumSGD(), learning_rate=1e-4, learning_rate_decay=0.99)\n",
    "\n",
    "# You should see even better results than before!\n",
    "loss_history, train_history, val_history = trainer.fit()"
   ]
  },
  {
   "cell_type": "markdown",
   "metadata": {},
   "source": [
    "# Ну что, давайте уже тренировать сеть!"
   ]
  },
  {
   "cell_type": "markdown",
   "metadata": {},
   "source": [
    "## Последний тест - переобучимся (overfit) на маленьком наборе данных\n",
    "\n",
    "Хороший способ проверить, все ли реализовано корректно - переобучить сеть на маленьком наборе данных.  \n",
    "Наша модель обладает достаточной мощностью, чтобы приблизить маленький набор данных идеально, поэтому мы ожидаем, что на нем мы быстро дойдем до 100% точности на тренировочном наборе. \n",
    "\n",
    "Если этого не происходит, то где-то была допущена ошибка!"
   ]
  },
  {
   "cell_type": "code",
   "execution_count": 17,
   "metadata": {},
   "outputs": [
    {
     "name": "stdout",
     "output_type": "stream",
     "text": [
      "Loss: 2.343099, Train accuracy: 0.200000, val accuracy: 0.066667\n",
      "Loss: 2.312486, Train accuracy: 0.200000, val accuracy: 0.133333\n",
      "Loss: 2.310269, Train accuracy: 0.200000, val accuracy: 0.066667\n",
      "Loss: 2.280321, Train accuracy: 0.200000, val accuracy: 0.133333\n",
      "Loss: 2.308429, Train accuracy: 0.200000, val accuracy: 0.133333\n",
      "Loss: 2.251717, Train accuracy: 0.266667, val accuracy: 0.000000\n",
      "Loss: 2.281469, Train accuracy: 0.200000, val accuracy: 0.066667\n",
      "Loss: 2.219882, Train accuracy: 0.266667, val accuracy: 0.066667\n",
      "Loss: 2.125205, Train accuracy: 0.400000, val accuracy: 0.000000\n",
      "Loss: 2.069203, Train accuracy: 0.400000, val accuracy: 0.000000\n",
      "Loss: 1.891202, Train accuracy: 0.400000, val accuracy: 0.000000\n",
      "Loss: 1.789957, Train accuracy: 0.400000, val accuracy: 0.000000\n",
      "Loss: 2.387310, Train accuracy: 0.333333, val accuracy: 0.000000\n",
      "Loss: 2.028081, Train accuracy: 0.333333, val accuracy: 0.000000\n",
      "Loss: 1.709454, Train accuracy: 0.333333, val accuracy: 0.000000\n",
      "Loss: 1.596661, Train accuracy: 0.333333, val accuracy: 0.000000\n",
      "Loss: 1.821669, Train accuracy: 0.400000, val accuracy: 0.000000\n",
      "Loss: 2.391124, Train accuracy: 0.400000, val accuracy: 0.000000\n",
      "Loss: 2.219174, Train accuracy: 0.400000, val accuracy: 0.066667\n",
      "Loss: 2.181084, Train accuracy: 0.400000, val accuracy: 0.000000\n",
      "Loss: 1.158995, Train accuracy: 0.400000, val accuracy: 0.000000\n",
      "Loss: 1.937341, Train accuracy: 0.400000, val accuracy: 0.066667\n",
      "Loss: 1.599363, Train accuracy: 0.400000, val accuracy: 0.000000\n",
      "Loss: 1.470850, Train accuracy: 0.400000, val accuracy: 0.000000\n",
      "Loss: 1.381501, Train accuracy: 0.400000, val accuracy: 0.000000\n",
      "Loss: 2.009657, Train accuracy: 0.466667, val accuracy: 0.000000\n",
      "Loss: 2.081289, Train accuracy: 0.466667, val accuracy: 0.066667\n",
      "Loss: 1.621041, Train accuracy: 0.466667, val accuracy: 0.066667\n",
      "Loss: 1.633461, Train accuracy: 0.466667, val accuracy: 0.066667\n",
      "Loss: 1.462074, Train accuracy: 0.466667, val accuracy: 0.066667\n",
      "Loss: 2.059573, Train accuracy: 0.466667, val accuracy: 0.066667\n",
      "Loss: 1.599061, Train accuracy: 0.533333, val accuracy: 0.000000\n",
      "Loss: 1.780729, Train accuracy: 0.533333, val accuracy: 0.066667\n",
      "Loss: 1.397457, Train accuracy: 0.600000, val accuracy: 0.066667\n",
      "Loss: 1.635309, Train accuracy: 0.600000, val accuracy: 0.066667\n",
      "Loss: 1.914945, Train accuracy: 0.600000, val accuracy: 0.066667\n",
      "Loss: 1.742847, Train accuracy: 0.666667, val accuracy: 0.066667\n",
      "Loss: 1.032331, Train accuracy: 0.666667, val accuracy: 0.066667\n",
      "Loss: 1.983499, Train accuracy: 0.666667, val accuracy: 0.000000\n",
      "Loss: 1.568811, Train accuracy: 0.600000, val accuracy: 0.066667\n",
      "Loss: 1.361533, Train accuracy: 0.666667, val accuracy: 0.000000\n",
      "Loss: 1.251465, Train accuracy: 0.666667, val accuracy: 0.066667\n",
      "Loss: 0.976895, Train accuracy: 0.666667, val accuracy: 0.066667\n",
      "Loss: 1.397729, Train accuracy: 0.733333, val accuracy: 0.066667\n",
      "Loss: 1.689764, Train accuracy: 0.800000, val accuracy: 0.066667\n",
      "Loss: 1.233149, Train accuracy: 0.733333, val accuracy: 0.133333\n",
      "Loss: 1.553490, Train accuracy: 0.733333, val accuracy: 0.133333\n",
      "Loss: 1.640119, Train accuracy: 0.733333, val accuracy: 0.066667\n",
      "Loss: 1.138890, Train accuracy: 0.733333, val accuracy: 0.066667\n",
      "Loss: 1.274075, Train accuracy: 0.733333, val accuracy: 0.066667\n",
      "Loss: 1.434166, Train accuracy: 0.666667, val accuracy: 0.000000\n",
      "Loss: 1.447496, Train accuracy: 0.733333, val accuracy: 0.066667\n",
      "Loss: 0.979704, Train accuracy: 0.733333, val accuracy: 0.066667\n",
      "Loss: 1.352828, Train accuracy: 0.733333, val accuracy: 0.066667\n",
      "Loss: 1.145583, Train accuracy: 0.733333, val accuracy: 0.066667\n",
      "Loss: 1.382668, Train accuracy: 0.733333, val accuracy: 0.066667\n",
      "Loss: 1.417416, Train accuracy: 0.733333, val accuracy: 0.066667\n",
      "Loss: 1.669480, Train accuracy: 0.733333, val accuracy: 0.066667\n",
      "Loss: 1.114977, Train accuracy: 0.733333, val accuracy: 0.066667\n",
      "Loss: 1.685064, Train accuracy: 0.733333, val accuracy: 0.066667\n",
      "Loss: 2.032266, Train accuracy: 0.733333, val accuracy: 0.066667\n",
      "Loss: 1.718304, Train accuracy: 0.733333, val accuracy: 0.066667\n",
      "Loss: 1.410252, Train accuracy: 0.733333, val accuracy: 0.066667\n",
      "Loss: 1.346327, Train accuracy: 0.733333, val accuracy: 0.066667\n",
      "Loss: 1.260044, Train accuracy: 0.733333, val accuracy: 0.066667\n",
      "Loss: 1.150633, Train accuracy: 0.733333, val accuracy: 0.066667\n",
      "Loss: 0.953595, Train accuracy: 0.733333, val accuracy: 0.066667\n",
      "Loss: 1.273222, Train accuracy: 0.733333, val accuracy: 0.066667\n",
      "Loss: 1.180212, Train accuracy: 0.733333, val accuracy: 0.066667\n",
      "Loss: 1.397486, Train accuracy: 0.733333, val accuracy: 0.066667\n",
      "Loss: 1.298110, Train accuracy: 0.800000, val accuracy: 0.066667\n",
      "Loss: 1.106415, Train accuracy: 0.800000, val accuracy: 0.066667\n",
      "Loss: 1.810097, Train accuracy: 0.800000, val accuracy: 0.066667\n",
      "Loss: 1.717006, Train accuracy: 0.800000, val accuracy: 0.066667\n",
      "Loss: 1.582515, Train accuracy: 0.800000, val accuracy: 0.066667\n",
      "Loss: 0.996148, Train accuracy: 0.800000, val accuracy: 0.066667\n",
      "Loss: 1.018617, Train accuracy: 0.800000, val accuracy: 0.066667\n",
      "Loss: 1.277822, Train accuracy: 0.800000, val accuracy: 0.066667\n",
      "Loss: 1.242696, Train accuracy: 0.800000, val accuracy: 0.066667\n",
      "Loss: 1.313354, Train accuracy: 0.800000, val accuracy: 0.066667\n",
      "Loss: 1.168162, Train accuracy: 0.800000, val accuracy: 0.066667\n",
      "Loss: 1.274287, Train accuracy: 0.800000, val accuracy: 0.066667\n",
      "Loss: 1.226503, Train accuracy: 0.800000, val accuracy: 0.066667\n",
      "Loss: 1.180891, Train accuracy: 0.800000, val accuracy: 0.066667\n",
      "Loss: 1.195636, Train accuracy: 0.866667, val accuracy: 0.066667\n",
      "Loss: 1.035941, Train accuracy: 0.866667, val accuracy: 0.066667\n",
      "Loss: 1.471466, Train accuracy: 0.933333, val accuracy: 0.066667\n",
      "Loss: 1.261045, Train accuracy: 0.866667, val accuracy: 0.066667\n",
      "Loss: 1.161807, Train accuracy: 0.866667, val accuracy: 0.066667\n",
      "Loss: 1.703686, Train accuracy: 0.866667, val accuracy: 0.066667\n",
      "Loss: 1.062002, Train accuracy: 0.933333, val accuracy: 0.066667\n",
      "Loss: 1.203190, Train accuracy: 0.866667, val accuracy: 0.066667\n",
      "Loss: 1.407398, Train accuracy: 0.866667, val accuracy: 0.066667\n",
      "Loss: 1.561750, Train accuracy: 0.866667, val accuracy: 0.066667\n",
      "Loss: 1.422565, Train accuracy: 0.933333, val accuracy: 0.066667\n",
      "Loss: 1.064096, Train accuracy: 0.933333, val accuracy: 0.066667\n",
      "Loss: 1.527602, Train accuracy: 0.933333, val accuracy: 0.000000\n",
      "Loss: 1.436987, Train accuracy: 0.933333, val accuracy: 0.000000\n",
      "Loss: 1.391329, Train accuracy: 0.933333, val accuracy: 0.000000\n",
      "Loss: 1.628927, Train accuracy: 0.933333, val accuracy: 0.000000\n",
      "Loss: 1.287464, Train accuracy: 0.933333, val accuracy: 0.000000\n",
      "Loss: 1.427293, Train accuracy: 0.933333, val accuracy: 0.000000\n",
      "Loss: 1.383166, Train accuracy: 0.933333, val accuracy: 0.000000\n",
      "Loss: 1.110914, Train accuracy: 0.933333, val accuracy: 0.000000\n",
      "Loss: 1.118287, Train accuracy: 1.000000, val accuracy: 0.000000\n",
      "Loss: 1.533179, Train accuracy: 1.000000, val accuracy: 0.000000\n",
      "Loss: 1.255716, Train accuracy: 1.000000, val accuracy: 0.000000\n",
      "Loss: 1.017868, Train accuracy: 1.000000, val accuracy: 0.000000\n",
      "Loss: 1.087730, Train accuracy: 1.000000, val accuracy: 0.000000\n",
      "Loss: 1.306405, Train accuracy: 1.000000, val accuracy: 0.000000\n",
      "Loss: 1.335955, Train accuracy: 1.000000, val accuracy: 0.000000\n",
      "Loss: 1.172359, Train accuracy: 1.000000, val accuracy: 0.000000\n",
      "Loss: 1.273508, Train accuracy: 1.000000, val accuracy: 0.000000\n",
      "Loss: 1.260459, Train accuracy: 1.000000, val accuracy: 0.000000\n",
      "Loss: 1.118180, Train accuracy: 1.000000, val accuracy: 0.000000\n",
      "Loss: 1.184591, Train accuracy: 1.000000, val accuracy: 0.000000\n",
      "Loss: 1.439445, Train accuracy: 1.000000, val accuracy: 0.000000\n",
      "Loss: 1.227559, Train accuracy: 0.933333, val accuracy: 0.000000\n",
      "Loss: 1.437044, Train accuracy: 1.000000, val accuracy: 0.000000\n",
      "Loss: 1.153710, Train accuracy: 1.000000, val accuracy: 0.000000\n",
      "Loss: 1.470358, Train accuracy: 1.000000, val accuracy: 0.000000\n",
      "Loss: 1.410772, Train accuracy: 1.000000, val accuracy: 0.000000\n",
      "Loss: 1.298921, Train accuracy: 1.000000, val accuracy: 0.000000\n",
      "Loss: 1.231853, Train accuracy: 1.000000, val accuracy: 0.000000\n",
      "Loss: 1.307489, Train accuracy: 1.000000, val accuracy: 0.000000\n",
      "Loss: 1.250571, Train accuracy: 1.000000, val accuracy: 0.000000\n",
      "Loss: 1.300749, Train accuracy: 1.000000, val accuracy: 0.000000\n",
      "Loss: 1.251753, Train accuracy: 1.000000, val accuracy: 0.000000\n",
      "Loss: 1.278254, Train accuracy: 1.000000, val accuracy: 0.000000\n"
     ]
    },
    {
     "name": "stdout",
     "output_type": "stream",
     "text": [
      "Loss: 1.422990, Train accuracy: 1.000000, val accuracy: 0.000000\n",
      "Loss: 1.103472, Train accuracy: 1.000000, val accuracy: 0.000000\n",
      "Loss: 1.464534, Train accuracy: 1.000000, val accuracy: 0.000000\n",
      "Loss: 1.091925, Train accuracy: 1.000000, val accuracy: 0.000000\n",
      "Loss: 1.341313, Train accuracy: 1.000000, val accuracy: 0.000000\n",
      "Loss: 1.270294, Train accuracy: 1.000000, val accuracy: 0.000000\n",
      "Loss: 1.602375, Train accuracy: 1.000000, val accuracy: 0.000000\n",
      "Loss: 1.335144, Train accuracy: 1.000000, val accuracy: 0.000000\n",
      "Loss: 1.538364, Train accuracy: 1.000000, val accuracy: 0.000000\n",
      "Loss: 1.338216, Train accuracy: 1.000000, val accuracy: 0.000000\n",
      "Loss: 1.239038, Train accuracy: 1.000000, val accuracy: 0.000000\n",
      "Loss: 1.232777, Train accuracy: 1.000000, val accuracy: 0.000000\n",
      "Loss: 1.251147, Train accuracy: 1.000000, val accuracy: 0.000000\n",
      "Loss: 1.320563, Train accuracy: 1.000000, val accuracy: 0.000000\n",
      "Loss: 1.436425, Train accuracy: 1.000000, val accuracy: 0.000000\n",
      "Loss: 1.423078, Train accuracy: 1.000000, val accuracy: 0.000000\n",
      "Loss: 1.248832, Train accuracy: 1.000000, val accuracy: 0.000000\n",
      "Loss: 1.242038, Train accuracy: 1.000000, val accuracy: 0.000000\n",
      "Loss: 1.446040, Train accuracy: 1.000000, val accuracy: 0.000000\n",
      "Loss: 1.542293, Train accuracy: 1.000000, val accuracy: 0.000000\n",
      "Loss: 1.187697, Train accuracy: 1.000000, val accuracy: 0.000000\n"
     ]
    }
   ],
   "source": [
    "data_size = 15\n",
    "model = TwoLayerNet(n_input = train_X.shape[1], n_output = 10, hidden_layer_size = 100, reg = 1e-1)\n",
    "dataset = Dataset(train_X[:data_size], train_y[:data_size], val_X[:data_size], val_y[:data_size])\n",
    "trainer = Trainer(model, dataset, SGD(), learning_rate=1e-1, num_epochs=150, batch_size=5)\n",
    "\n",
    "# You should expect this to reach 1.0 training accuracy \n",
    "loss_history, train_history, val_history = trainer.fit()"
   ]
  },
  {
   "cell_type": "markdown",
   "metadata": {},
   "source": [
    "Теперь найдем гипепараметры, для которых этот процесс сходится быстрее.\n",
    "Если все реализовано корректно, то существуют параметры, при которых процесс сходится в **20** эпох или еще быстрее.\n",
    "Найдите их!"
   ]
  },
  {
   "cell_type": "code",
   "execution_count": 20,
   "metadata": {},
   "outputs": [
    {
     "name": "stdout",
     "output_type": "stream",
     "text": [
      "Loss: 2.333600, Train accuracy: 0.266667, val accuracy: 0.066667\n",
      "Loss: 2.195043, Train accuracy: 0.333333, val accuracy: 0.133333\n",
      "Loss: 2.457735, Train accuracy: 0.333333, val accuracy: 0.066667\n",
      "Loss: 1.335260, Train accuracy: 0.333333, val accuracy: 0.066667\n",
      "Loss: 2.557383, Train accuracy: 0.333333, val accuracy: 0.000000\n",
      "Loss: 2.270869, Train accuracy: 0.400000, val accuracy: 0.000000\n",
      "Loss: 1.013282, Train accuracy: 0.400000, val accuracy: 0.000000\n",
      "Loss: 2.542147, Train accuracy: 0.600000, val accuracy: 0.066667\n",
      "Loss: 0.550201, Train accuracy: 0.533333, val accuracy: 0.000000\n",
      "Loss: 1.762674, Train accuracy: 0.600000, val accuracy: 0.066667\n",
      "Loss: 0.240772, Train accuracy: 0.600000, val accuracy: 0.066667\n",
      "Loss: 0.413565, Train accuracy: 0.733333, val accuracy: 0.000000\n",
      "Loss: 0.277388, Train accuracy: 0.666667, val accuracy: 0.000000\n",
      "Loss: 2.336462, Train accuracy: 0.800000, val accuracy: 0.066667\n",
      "Loss: 0.434882, Train accuracy: 0.933333, val accuracy: 0.133333\n",
      "Loss: 0.278287, Train accuracy: 0.933333, val accuracy: 0.066667\n",
      "Loss: 1.726641, Train accuracy: 1.000000, val accuracy: 0.066667\n",
      "Loss: 0.351235, Train accuracy: 1.000000, val accuracy: 0.066667\n",
      "Loss: 0.224561, Train accuracy: 1.000000, val accuracy: 0.066667\n",
      "Loss: 0.255562, Train accuracy: 1.000000, val accuracy: 0.066667\n"
     ]
    }
   ],
   "source": [
    "# Now, tweak some hyper parameters and make it train to 1.0 accuracy in 20 epochs or less\n",
    "\n",
    "model = TwoLayerNet(n_input = train_X.shape[1], n_output = 10, hidden_layer_size = 500, reg = 1e-2)\n",
    "dataset = Dataset(train_X[:data_size], train_y[:data_size], val_X[:data_size], val_y[:data_size])\n",
    "# TODO: Change any hyperparamers or optimizators to reach training accuracy in 20 epochs\n",
    "trainer = Trainer(model, dataset, SGD(), learning_rate=1e-1, num_epochs=20, batch_size=2)\n",
    "\n",
    "loss_history, train_history, val_history = trainer.fit()"
   ]
  },
  {
   "cell_type": "markdown",
   "metadata": {},
   "source": [
    "# Итак, основное мероприятие!\n",
    "\n",
    "Натренируйте лучшую нейросеть! Можно добавлять и изменять параметры, менять количество нейронов в слоях сети и как угодно экспериментировать. \n",
    "\n",
    "Добейтесь точности лучше **60%** на validation set."
   ]
  },
  {
   "cell_type": "code",
   "execution_count": 22,
   "metadata": {
    "scrolled": true
   },
   "outputs": [
    {
     "name": "stdout",
     "output_type": "stream",
     "text": [
      "Loss: 2.245530, Train accuracy: 0.196667, val accuracy: 0.206000\n",
      "Loss: 2.252268, Train accuracy: 0.196667, val accuracy: 0.206000\n",
      "Loss: 2.313189, Train accuracy: 0.196667, val accuracy: 0.206000\n",
      "Loss: 2.174463, Train accuracy: 0.196667, val accuracy: 0.206000\n",
      "Loss: 2.176649, Train accuracy: 0.196667, val accuracy: 0.206000\n",
      "Loss: 2.162195, Train accuracy: 0.196889, val accuracy: 0.206000\n",
      "Loss: 2.038964, Train accuracy: 0.242556, val accuracy: 0.242000\n",
      "Loss: 1.941083, Train accuracy: 0.270222, val accuracy: 0.268000\n",
      "Loss: 1.982185, Train accuracy: 0.284778, val accuracy: 0.285000\n",
      "Loss: 1.893375, Train accuracy: 0.333444, val accuracy: 0.337000\n",
      "Loss: 1.890551, Train accuracy: 0.389000, val accuracy: 0.388000\n",
      "Loss: 1.559721, Train accuracy: 0.426222, val accuracy: 0.420000\n",
      "Loss: 1.560740, Train accuracy: 0.467444, val accuracy: 0.460000\n",
      "Loss: 1.505837, Train accuracy: 0.496333, val accuracy: 0.486000\n",
      "Loss: 1.450842, Train accuracy: 0.534333, val accuracy: 0.531000\n",
      "Loss: 1.361028, Train accuracy: 0.564778, val accuracy: 0.555000\n",
      "Loss: 1.232277, Train accuracy: 0.592222, val accuracy: 0.587000\n",
      "Loss: 1.457383, Train accuracy: 0.606556, val accuracy: 0.593000\n",
      "Loss: 1.717279, Train accuracy: 0.634667, val accuracy: 0.623000\n",
      "Loss: 1.415393, Train accuracy: 0.646222, val accuracy: 0.637000\n",
      "Loss: 1.269326, Train accuracy: 0.661778, val accuracy: 0.647000\n",
      "Loss: 1.110569, Train accuracy: 0.672444, val accuracy: 0.651000\n",
      "Loss: 1.087628, Train accuracy: 0.685444, val accuracy: 0.668000\n",
      "Loss: 1.278048, Train accuracy: 0.688222, val accuracy: 0.670000\n",
      "Loss: 0.976410, Train accuracy: 0.695444, val accuracy: 0.677000\n",
      "Loss: 1.092784, Train accuracy: 0.706444, val accuracy: 0.687000\n",
      "Loss: 0.986234, Train accuracy: 0.714889, val accuracy: 0.683000\n",
      "Loss: 1.151713, Train accuracy: 0.720556, val accuracy: 0.686000\n",
      "Loss: 0.801334, Train accuracy: 0.723889, val accuracy: 0.700000\n",
      "Loss: 1.189512, Train accuracy: 0.727889, val accuracy: 0.702000\n",
      "Loss: 1.019856, Train accuracy: 0.736556, val accuracy: 0.708000\n",
      "Loss: 1.047540, Train accuracy: 0.735444, val accuracy: 0.703000\n",
      "Loss: 1.222864, Train accuracy: 0.742444, val accuracy: 0.703000\n",
      "Loss: 1.349423, Train accuracy: 0.751667, val accuracy: 0.724000\n",
      "Loss: 1.009755, Train accuracy: 0.760444, val accuracy: 0.725000\n",
      "Loss: 1.012059, Train accuracy: 0.758667, val accuracy: 0.722000\n",
      "Loss: 0.842277, Train accuracy: 0.762889, val accuracy: 0.724000\n",
      "Loss: 0.766329, Train accuracy: 0.766667, val accuracy: 0.722000\n",
      "Loss: 0.969423, Train accuracy: 0.773667, val accuracy: 0.715000\n",
      "Loss: 0.809120, Train accuracy: 0.778222, val accuracy: 0.737000\n",
      "Loss: 0.976527, Train accuracy: 0.772000, val accuracy: 0.718000\n",
      "Loss: 0.922791, Train accuracy: 0.784111, val accuracy: 0.729000\n",
      "Loss: 1.056279, Train accuracy: 0.786000, val accuracy: 0.728000\n",
      "Loss: 1.085562, Train accuracy: 0.795444, val accuracy: 0.729000\n",
      "Loss: 1.046575, Train accuracy: 0.792889, val accuracy: 0.735000\n",
      "Loss: 0.861572, Train accuracy: 0.794667, val accuracy: 0.729000\n",
      "Loss: 0.835199, Train accuracy: 0.791111, val accuracy: 0.721000\n",
      "Loss: 0.869621, Train accuracy: 0.796556, val accuracy: 0.729000\n",
      "Loss: 1.130957, Train accuracy: 0.803222, val accuracy: 0.735000\n",
      "Loss: 0.639133, Train accuracy: 0.810889, val accuracy: 0.739000\n",
      "Loss: 0.863823, Train accuracy: 0.814778, val accuracy: 0.737000\n",
      "Loss: 0.876060, Train accuracy: 0.814667, val accuracy: 0.733000\n",
      "Loss: 0.750027, Train accuracy: 0.815000, val accuracy: 0.737000\n",
      "Loss: 0.818291, Train accuracy: 0.817667, val accuracy: 0.737000\n",
      "Loss: 0.972586, Train accuracy: 0.819222, val accuracy: 0.743000\n",
      "Loss: 0.785404, Train accuracy: 0.821667, val accuracy: 0.732000\n",
      "Loss: 1.079484, Train accuracy: 0.817222, val accuracy: 0.731000\n",
      "Loss: 0.765432, Train accuracy: 0.827778, val accuracy: 0.744000\n",
      "Loss: 0.674451, Train accuracy: 0.828111, val accuracy: 0.737000\n",
      "Loss: 0.788025, Train accuracy: 0.833111, val accuracy: 0.744000\n",
      "Loss: 0.855608, Train accuracy: 0.836556, val accuracy: 0.743000\n",
      "Loss: 0.778035, Train accuracy: 0.831000, val accuracy: 0.745000\n",
      "Loss: 0.898156, Train accuracy: 0.838667, val accuracy: 0.740000\n",
      "Loss: 0.902173, Train accuracy: 0.843000, val accuracy: 0.752000\n",
      "Loss: 0.913918, Train accuracy: 0.840000, val accuracy: 0.754000\n",
      "Loss: 0.755986, Train accuracy: 0.847778, val accuracy: 0.746000\n",
      "Loss: 0.700928, Train accuracy: 0.842778, val accuracy: 0.743000\n",
      "Loss: 0.845985, Train accuracy: 0.841667, val accuracy: 0.745000\n",
      "Loss: 0.749277, Train accuracy: 0.850444, val accuracy: 0.761000\n",
      "Loss: 0.782481, Train accuracy: 0.855111, val accuracy: 0.749000\n",
      "Loss: 0.953420, Train accuracy: 0.853111, val accuracy: 0.752000\n",
      "Loss: 0.778656, Train accuracy: 0.854556, val accuracy: 0.754000\n",
      "Loss: 0.615734, Train accuracy: 0.859667, val accuracy: 0.753000\n",
      "Loss: 0.627558, Train accuracy: 0.856667, val accuracy: 0.755000\n",
      "Loss: 0.813678, Train accuracy: 0.859444, val accuracy: 0.749000\n",
      "Loss: 0.758162, Train accuracy: 0.862000, val accuracy: 0.752000\n",
      "Loss: 0.751862, Train accuracy: 0.856222, val accuracy: 0.745000\n",
      "Loss: 0.799862, Train accuracy: 0.863111, val accuracy: 0.752000\n",
      "Loss: 0.845484, Train accuracy: 0.873000, val accuracy: 0.765000\n",
      "Loss: 0.971737, Train accuracy: 0.865000, val accuracy: 0.740000\n",
      "Loss: 0.649688, Train accuracy: 0.869556, val accuracy: 0.748000\n",
      "Loss: 0.882397, Train accuracy: 0.868667, val accuracy: 0.745000\n",
      "Loss: 0.795881, Train accuracy: 0.871444, val accuracy: 0.755000\n",
      "Loss: 0.793404, Train accuracy: 0.873222, val accuracy: 0.754000\n",
      "Loss: 0.665303, Train accuracy: 0.878000, val accuracy: 0.763000\n",
      "Loss: 0.774397, Train accuracy: 0.881111, val accuracy: 0.754000\n",
      "Loss: 0.859328, Train accuracy: 0.868222, val accuracy: 0.742000\n",
      "Loss: 0.935745, Train accuracy: 0.886000, val accuracy: 0.765000\n",
      "Loss: 0.766174, Train accuracy: 0.871444, val accuracy: 0.747000\n",
      "Loss: 0.756609, Train accuracy: 0.884111, val accuracy: 0.760000\n",
      "Loss: 0.686882, Train accuracy: 0.884889, val accuracy: 0.758000\n",
      "Loss: 0.667209, Train accuracy: 0.877778, val accuracy: 0.752000\n",
      "Loss: 0.674521, Train accuracy: 0.876444, val accuracy: 0.748000\n",
      "Loss: 0.707745, Train accuracy: 0.887667, val accuracy: 0.759000\n",
      "Loss: 0.865836, Train accuracy: 0.888111, val accuracy: 0.760000\n",
      "Loss: 0.667181, Train accuracy: 0.892111, val accuracy: 0.763000\n",
      "Loss: 0.853963, Train accuracy: 0.889778, val accuracy: 0.764000\n",
      "Loss: 0.834641, Train accuracy: 0.891778, val accuracy: 0.760000\n",
      "Loss: 0.755616, Train accuracy: 0.890556, val accuracy: 0.758000\n",
      "Loss: 0.667335, Train accuracy: 0.890444, val accuracy: 0.763000\n",
      "Loss: 0.706582, Train accuracy: 0.894667, val accuracy: 0.760000\n",
      "Loss: 0.640999, Train accuracy: 0.896000, val accuracy: 0.754000\n",
      "Loss: 0.783782, Train accuracy: 0.902444, val accuracy: 0.764000\n",
      "Loss: 0.749698, Train accuracy: 0.901444, val accuracy: 0.764000\n",
      "Loss: 0.731005, Train accuracy: 0.899889, val accuracy: 0.768000\n",
      "Loss: 0.781460, Train accuracy: 0.901667, val accuracy: 0.758000\n",
      "Loss: 0.764330, Train accuracy: 0.904889, val accuracy: 0.766000\n",
      "Loss: 0.801294, Train accuracy: 0.902444, val accuracy: 0.759000\n",
      "Loss: 0.681907, Train accuracy: 0.900222, val accuracy: 0.760000\n",
      "Loss: 0.806205, Train accuracy: 0.905889, val accuracy: 0.767000\n",
      "Loss: 0.674770, Train accuracy: 0.898778, val accuracy: 0.762000\n",
      "Loss: 0.909309, Train accuracy: 0.907778, val accuracy: 0.772000\n",
      "Loss: 0.769434, Train accuracy: 0.908000, val accuracy: 0.765000\n",
      "Loss: 0.665355, Train accuracy: 0.901111, val accuracy: 0.754000\n",
      "Loss: 0.821457, Train accuracy: 0.907222, val accuracy: 0.776000\n",
      "Loss: 0.640284, Train accuracy: 0.908889, val accuracy: 0.768000\n",
      "Loss: 0.921850, Train accuracy: 0.902111, val accuracy: 0.764000\n",
      "Loss: 0.552932, Train accuracy: 0.905667, val accuracy: 0.765000\n",
      "Loss: 0.727290, Train accuracy: 0.914667, val accuracy: 0.767000\n",
      "Loss: 0.767424, Train accuracy: 0.914667, val accuracy: 0.768000\n",
      "Loss: 2.284504, Train accuracy: 0.196667, val accuracy: 0.206000\n",
      "Loss: 2.146257, Train accuracy: 0.196667, val accuracy: 0.206000\n",
      "Loss: 2.187240, Train accuracy: 0.196667, val accuracy: 0.206000\n",
      "Loss: 2.286986, Train accuracy: 0.196667, val accuracy: 0.206000\n",
      "Loss: 1.942434, Train accuracy: 0.196667, val accuracy: 0.206000\n",
      "Loss: 2.159159, Train accuracy: 0.210444, val accuracy: 0.220000\n",
      "Loss: 2.166088, Train accuracy: 0.248778, val accuracy: 0.249000\n"
     ]
    },
    {
     "name": "stdout",
     "output_type": "stream",
     "text": [
      "Loss: 2.112595, Train accuracy: 0.273444, val accuracy: 0.273000\n",
      "Loss: 2.015764, Train accuracy: 0.303111, val accuracy: 0.304000\n",
      "Loss: 2.033234, Train accuracy: 0.346444, val accuracy: 0.342000\n",
      "Loss: 1.507894, Train accuracy: 0.397222, val accuracy: 0.387000\n",
      "Loss: 1.735180, Train accuracy: 0.429889, val accuracy: 0.422000\n",
      "Loss: 1.417691, Train accuracy: 0.478111, val accuracy: 0.467000\n",
      "Loss: 1.682945, Train accuracy: 0.516111, val accuracy: 0.525000\n",
      "Loss: 1.409052, Train accuracy: 0.545111, val accuracy: 0.540000\n",
      "Loss: 1.463544, Train accuracy: 0.566444, val accuracy: 0.562000\n",
      "Loss: 0.981699, Train accuracy: 0.597111, val accuracy: 0.579000\n",
      "Loss: 1.362941, Train accuracy: 0.613222, val accuracy: 0.597000\n",
      "Loss: 1.106158, Train accuracy: 0.634444, val accuracy: 0.620000\n",
      "Loss: 1.188405, Train accuracy: 0.655556, val accuracy: 0.625000\n",
      "Loss: 1.156483, Train accuracy: 0.669667, val accuracy: 0.655000\n",
      "Loss: 1.042228, Train accuracy: 0.676667, val accuracy: 0.660000\n",
      "Loss: 0.995256, Train accuracy: 0.686778, val accuracy: 0.671000\n",
      "Loss: 0.998421, Train accuracy: 0.694000, val accuracy: 0.684000\n",
      "Loss: 1.092191, Train accuracy: 0.691444, val accuracy: 0.684000\n",
      "Loss: 1.342920, Train accuracy: 0.709333, val accuracy: 0.702000\n",
      "Loss: 0.864311, Train accuracy: 0.719222, val accuracy: 0.705000\n",
      "Loss: 1.099246, Train accuracy: 0.724333, val accuracy: 0.695000\n",
      "Loss: 1.147993, Train accuracy: 0.729111, val accuracy: 0.705000\n",
      "Loss: 1.170611, Train accuracy: 0.731444, val accuracy: 0.693000\n",
      "Loss: 1.221011, Train accuracy: 0.741556, val accuracy: 0.717000\n",
      "Loss: 0.914479, Train accuracy: 0.752667, val accuracy: 0.722000\n",
      "Loss: 0.990030, Train accuracy: 0.742333, val accuracy: 0.708000\n",
      "Loss: 0.839852, Train accuracy: 0.753556, val accuracy: 0.718000\n",
      "Loss: 0.861955, Train accuracy: 0.764000, val accuracy: 0.725000\n",
      "Loss: 0.814755, Train accuracy: 0.768000, val accuracy: 0.724000\n",
      "Loss: 1.014630, Train accuracy: 0.770556, val accuracy: 0.726000\n",
      "Loss: 1.028034, Train accuracy: 0.778333, val accuracy: 0.727000\n",
      "Loss: 0.702914, Train accuracy: 0.767778, val accuracy: 0.715000\n",
      "Loss: 1.045026, Train accuracy: 0.780111, val accuracy: 0.725000\n",
      "Loss: 1.163412, Train accuracy: 0.785556, val accuracy: 0.726000\n",
      "Loss: 0.933678, Train accuracy: 0.791111, val accuracy: 0.715000\n",
      "Loss: 0.840989, Train accuracy: 0.793333, val accuracy: 0.724000\n",
      "Loss: 0.983669, Train accuracy: 0.794111, val accuracy: 0.726000\n",
      "Loss: 0.777182, Train accuracy: 0.798778, val accuracy: 0.732000\n",
      "Loss: 0.832673, Train accuracy: 0.800333, val accuracy: 0.734000\n",
      "Loss: 0.753698, Train accuracy: 0.802778, val accuracy: 0.736000\n",
      "Loss: 0.680703, Train accuracy: 0.815222, val accuracy: 0.742000\n",
      "Loss: 0.953104, Train accuracy: 0.813889, val accuracy: 0.738000\n",
      "Loss: 0.863309, Train accuracy: 0.815444, val accuracy: 0.755000\n",
      "Loss: 0.900591, Train accuracy: 0.821778, val accuracy: 0.752000\n",
      "Loss: 0.901617, Train accuracy: 0.822667, val accuracy: 0.744000\n",
      "Loss: 0.705700, Train accuracy: 0.819333, val accuracy: 0.742000\n",
      "Loss: 0.783399, Train accuracy: 0.826889, val accuracy: 0.757000\n",
      "Loss: 0.895484, Train accuracy: 0.832333, val accuracy: 0.754000\n",
      "Loss: 0.896828, Train accuracy: 0.833222, val accuracy: 0.743000\n",
      "Loss: 0.999190, Train accuracy: 0.840667, val accuracy: 0.756000\n",
      "Loss: 0.717668, Train accuracy: 0.838000, val accuracy: 0.748000\n",
      "Loss: 0.909696, Train accuracy: 0.842000, val accuracy: 0.741000\n",
      "Loss: 0.894821, Train accuracy: 0.834778, val accuracy: 0.733000\n",
      "Loss: 0.575758, Train accuracy: 0.844667, val accuracy: 0.752000\n",
      "Loss: 0.920062, Train accuracy: 0.843889, val accuracy: 0.743000\n",
      "Loss: 1.025794, Train accuracy: 0.857222, val accuracy: 0.755000\n",
      "Loss: 0.805051, Train accuracy: 0.854222, val accuracy: 0.751000\n",
      "Loss: 0.659871, Train accuracy: 0.842778, val accuracy: 0.740000\n",
      "Loss: 0.650432, Train accuracy: 0.855667, val accuracy: 0.758000\n",
      "Loss: 0.849358, Train accuracy: 0.858222, val accuracy: 0.750000\n",
      "Loss: 0.818555, Train accuracy: 0.852000, val accuracy: 0.750000\n",
      "Loss: 0.969208, Train accuracy: 0.864111, val accuracy: 0.752000\n",
      "Loss: 0.989018, Train accuracy: 0.864556, val accuracy: 0.756000\n",
      "Loss: 0.862213, Train accuracy: 0.862556, val accuracy: 0.755000\n",
      "Loss: 0.717124, Train accuracy: 0.867222, val accuracy: 0.759000\n",
      "Loss: 0.977526, Train accuracy: 0.869000, val accuracy: 0.761000\n",
      "Loss: 0.742006, Train accuracy: 0.868778, val accuracy: 0.755000\n",
      "Loss: 0.710792, Train accuracy: 0.874444, val accuracy: 0.757000\n",
      "Loss: 0.686928, Train accuracy: 0.867778, val accuracy: 0.758000\n",
      "Loss: 0.899551, Train accuracy: 0.875444, val accuracy: 0.764000\n",
      "Loss: 0.669390, Train accuracy: 0.872111, val accuracy: 0.763000\n",
      "Loss: 0.767615, Train accuracy: 0.873000, val accuracy: 0.753000\n",
      "Loss: 0.885288, Train accuracy: 0.879778, val accuracy: 0.763000\n",
      "Loss: 0.814631, Train accuracy: 0.885667, val accuracy: 0.765000\n",
      "Loss: 0.686702, Train accuracy: 0.886111, val accuracy: 0.768000\n",
      "Loss: 0.651699, Train accuracy: 0.884222, val accuracy: 0.764000\n",
      "Loss: 0.637252, Train accuracy: 0.876444, val accuracy: 0.765000\n",
      "Loss: 0.736326, Train accuracy: 0.890222, val accuracy: 0.770000\n",
      "Loss: 0.846395, Train accuracy: 0.884667, val accuracy: 0.758000\n",
      "Loss: 0.842121, Train accuracy: 0.893000, val accuracy: 0.771000\n",
      "Loss: 0.639524, Train accuracy: 0.895000, val accuracy: 0.777000\n",
      "Loss: 0.957958, Train accuracy: 0.891000, val accuracy: 0.764000\n",
      "Loss: 0.784146, Train accuracy: 0.895667, val accuracy: 0.766000\n",
      "Loss: 0.741876, Train accuracy: 0.893889, val accuracy: 0.774000\n",
      "Loss: 0.925493, Train accuracy: 0.893778, val accuracy: 0.779000\n",
      "Loss: 0.798829, Train accuracy: 0.899667, val accuracy: 0.770000\n",
      "Loss: 0.749247, Train accuracy: 0.890333, val accuracy: 0.758000\n",
      "Loss: 0.753985, Train accuracy: 0.896222, val accuracy: 0.769000\n",
      "Loss: 0.577740, Train accuracy: 0.900000, val accuracy: 0.751000\n",
      "Loss: 0.611901, Train accuracy: 0.901000, val accuracy: 0.766000\n",
      "Loss: 0.684282, Train accuracy: 0.906111, val accuracy: 0.786000\n",
      "Loss: 0.753214, Train accuracy: 0.898222, val accuracy: 0.768000\n",
      "Loss: 0.653341, Train accuracy: 0.900444, val accuracy: 0.772000\n",
      "Loss: 0.715195, Train accuracy: 0.907778, val accuracy: 0.758000\n",
      "Loss: 0.836772, Train accuracy: 0.900556, val accuracy: 0.770000\n",
      "Loss: 0.814833, Train accuracy: 0.908667, val accuracy: 0.761000\n",
      "Loss: 0.689635, Train accuracy: 0.912556, val accuracy: 0.772000\n",
      "Loss: 0.662744, Train accuracy: 0.916111, val accuracy: 0.779000\n",
      "Loss: 0.811957, Train accuracy: 0.906778, val accuracy: 0.773000\n",
      "Loss: 0.781397, Train accuracy: 0.915111, val accuracy: 0.782000\n",
      "Loss: 0.559987, Train accuracy: 0.915222, val accuracy: 0.766000\n",
      "Loss: 0.679084, Train accuracy: 0.916222, val accuracy: 0.770000\n",
      "Loss: 0.845408, Train accuracy: 0.909667, val accuracy: 0.770000\n",
      "Loss: 0.866751, Train accuracy: 0.917889, val accuracy: 0.779000\n",
      "Loss: 0.793618, Train accuracy: 0.916444, val accuracy: 0.771000\n",
      "Loss: 0.739709, Train accuracy: 0.918556, val accuracy: 0.777000\n",
      "Loss: 0.663282, Train accuracy: 0.913333, val accuracy: 0.771000\n",
      "Loss: 0.800799, Train accuracy: 0.921889, val accuracy: 0.779000\n",
      "Loss: 0.898159, Train accuracy: 0.921556, val accuracy: 0.779000\n",
      "Loss: 0.738125, Train accuracy: 0.921778, val accuracy: 0.772000\n",
      "Loss: 0.697119, Train accuracy: 0.915222, val accuracy: 0.775000\n",
      "Loss: 0.738093, Train accuracy: 0.925000, val accuracy: 0.782000\n",
      "Loss: 0.656978, Train accuracy: 0.922889, val accuracy: 0.776000\n",
      "Loss: 2.012102, Train accuracy: 0.196667, val accuracy: 0.206000\n",
      "Loss: 1.979394, Train accuracy: 0.360222, val accuracy: 0.361000\n",
      "Loss: 1.381785, Train accuracy: 0.558000, val accuracy: 0.536000\n",
      "Loss: 1.252074, Train accuracy: 0.643000, val accuracy: 0.627000\n",
      "Loss: 1.664550, Train accuracy: 0.651889, val accuracy: 0.640000\n",
      "Loss: 1.251468, Train accuracy: 0.664444, val accuracy: 0.646000\n",
      "Loss: 1.162025, Train accuracy: 0.643333, val accuracy: 0.629000\n",
      "Loss: 1.240872, Train accuracy: 0.710333, val accuracy: 0.684000\n",
      "Loss: 1.062817, Train accuracy: 0.718556, val accuracy: 0.676000\n",
      "Loss: 1.195734, Train accuracy: 0.705000, val accuracy: 0.651000\n",
      "Loss: 1.229171, Train accuracy: 0.723000, val accuracy: 0.693000\n",
      "Loss: 1.391288, Train accuracy: 0.752556, val accuracy: 0.691000\n",
      "Loss: 1.350514, Train accuracy: 0.691556, val accuracy: 0.631000\n",
      "Loss: 1.183051, Train accuracy: 0.756000, val accuracy: 0.694000\n"
     ]
    },
    {
     "name": "stdout",
     "output_type": "stream",
     "text": [
      "Loss: 1.118570, Train accuracy: 0.718333, val accuracy: 0.673000\n",
      "Loss: 1.573636, Train accuracy: 0.734444, val accuracy: 0.676000\n",
      "Loss: 1.177751, Train accuracy: 0.727222, val accuracy: 0.649000\n",
      "Loss: 0.880432, Train accuracy: 0.756222, val accuracy: 0.701000\n",
      "Loss: 0.954737, Train accuracy: 0.783778, val accuracy: 0.709000\n",
      "Loss: 0.966438, Train accuracy: 0.758889, val accuracy: 0.710000\n",
      "Loss: 0.915312, Train accuracy: 0.787111, val accuracy: 0.725000\n",
      "Loss: 1.286816, Train accuracy: 0.749333, val accuracy: 0.670000\n",
      "Loss: 1.281443, Train accuracy: 0.768222, val accuracy: 0.693000\n",
      "Loss: 0.942844, Train accuracy: 0.782000, val accuracy: 0.718000\n",
      "Loss: 1.512569, Train accuracy: 0.772556, val accuracy: 0.688000\n",
      "Loss: 1.101542, Train accuracy: 0.772889, val accuracy: 0.706000\n",
      "Loss: 1.001636, Train accuracy: 0.772889, val accuracy: 0.713000\n",
      "Loss: 1.064641, Train accuracy: 0.770111, val accuracy: 0.703000\n",
      "Loss: 1.141741, Train accuracy: 0.767444, val accuracy: 0.693000\n",
      "Loss: 1.091937, Train accuracy: 0.793222, val accuracy: 0.712000\n",
      "Loss: 1.556882, Train accuracy: 0.774778, val accuracy: 0.687000\n",
      "Loss: 1.270730, Train accuracy: 0.745111, val accuracy: 0.689000\n",
      "Loss: 1.306920, Train accuracy: 0.771222, val accuracy: 0.718000\n",
      "Loss: 1.448031, Train accuracy: 0.773222, val accuracy: 0.697000\n",
      "Loss: 0.877429, Train accuracy: 0.788333, val accuracy: 0.703000\n",
      "Loss: 1.676596, Train accuracy: 0.747111, val accuracy: 0.672000\n",
      "Loss: 1.075775, Train accuracy: 0.794000, val accuracy: 0.728000\n",
      "Loss: 1.392921, Train accuracy: 0.781889, val accuracy: 0.708000\n",
      "Loss: 1.218686, Train accuracy: 0.812444, val accuracy: 0.715000\n",
      "Loss: 1.853660, Train accuracy: 0.657222, val accuracy: 0.599000\n",
      "Loss: 1.099948, Train accuracy: 0.770556, val accuracy: 0.694000\n",
      "Loss: 1.245508, Train accuracy: 0.790889, val accuracy: 0.728000\n",
      "Loss: 1.263949, Train accuracy: 0.767000, val accuracy: 0.675000\n",
      "Loss: 0.957988, Train accuracy: 0.814222, val accuracy: 0.721000\n",
      "Loss: 1.164476, Train accuracy: 0.716111, val accuracy: 0.652000\n",
      "Loss: 1.036995, Train accuracy: 0.790000, val accuracy: 0.716000\n",
      "Loss: 1.670114, Train accuracy: 0.714333, val accuracy: 0.663000\n",
      "Loss: 1.230424, Train accuracy: 0.789667, val accuracy: 0.705000\n",
      "Loss: 0.924118, Train accuracy: 0.803111, val accuracy: 0.709000\n",
      "Loss: 0.937295, Train accuracy: 0.752889, val accuracy: 0.709000\n",
      "Loss: 0.893483, Train accuracy: 0.775222, val accuracy: 0.673000\n",
      "Loss: 1.102904, Train accuracy: 0.793778, val accuracy: 0.725000\n",
      "Loss: 1.255758, Train accuracy: 0.752222, val accuracy: 0.686000\n",
      "Loss: 1.596583, Train accuracy: 0.761778, val accuracy: 0.686000\n",
      "Loss: 0.950125, Train accuracy: 0.778556, val accuracy: 0.713000\n",
      "Loss: 1.366387, Train accuracy: 0.804667, val accuracy: 0.726000\n",
      "Loss: 0.849414, Train accuracy: 0.705889, val accuracy: 0.641000\n",
      "Loss: 1.212895, Train accuracy: 0.788667, val accuracy: 0.726000\n",
      "Loss: 1.108014, Train accuracy: 0.806667, val accuracy: 0.724000\n",
      "Loss: 1.179385, Train accuracy: 0.788111, val accuracy: 0.689000\n",
      "Loss: 0.821024, Train accuracy: 0.763333, val accuracy: 0.678000\n",
      "Loss: 1.563797, Train accuracy: 0.802444, val accuracy: 0.726000\n",
      "Loss: 1.604788, Train accuracy: 0.786667, val accuracy: 0.725000\n",
      "Loss: 1.098319, Train accuracy: 0.802667, val accuracy: 0.731000\n",
      "Loss: 1.087972, Train accuracy: 0.791333, val accuracy: 0.710000\n",
      "Loss: 1.038690, Train accuracy: 0.778444, val accuracy: 0.691000\n",
      "Loss: 1.291829, Train accuracy: 0.758667, val accuracy: 0.687000\n",
      "Loss: 1.416418, Train accuracy: 0.784556, val accuracy: 0.716000\n",
      "Loss: 1.344270, Train accuracy: 0.804111, val accuracy: 0.704000\n",
      "Loss: 1.054380, Train accuracy: 0.801667, val accuracy: 0.740000\n",
      "Loss: 0.957338, Train accuracy: 0.781556, val accuracy: 0.710000\n",
      "Loss: 0.834843, Train accuracy: 0.779444, val accuracy: 0.671000\n",
      "Loss: 1.117535, Train accuracy: 0.821667, val accuracy: 0.722000\n",
      "Loss: 1.329207, Train accuracy: 0.823333, val accuracy: 0.738000\n",
      "Loss: 1.056683, Train accuracy: 0.788444, val accuracy: 0.695000\n",
      "Loss: 1.035371, Train accuracy: 0.773444, val accuracy: 0.680000\n",
      "Loss: 0.945936, Train accuracy: 0.793000, val accuracy: 0.711000\n",
      "Loss: 1.050593, Train accuracy: 0.767667, val accuracy: 0.680000\n",
      "Loss: 1.301424, Train accuracy: 0.776889, val accuracy: 0.696000\n",
      "Loss: 1.170716, Train accuracy: 0.776333, val accuracy: 0.712000\n",
      "Loss: 1.015352, Train accuracy: 0.794222, val accuracy: 0.701000\n",
      "Loss: 1.134264, Train accuracy: 0.774444, val accuracy: 0.693000\n",
      "Loss: 0.969692, Train accuracy: 0.812778, val accuracy: 0.730000\n",
      "Loss: 1.172934, Train accuracy: 0.766778, val accuracy: 0.689000\n",
      "Loss: 1.283920, Train accuracy: 0.808111, val accuracy: 0.739000\n",
      "Loss: 1.024234, Train accuracy: 0.778000, val accuracy: 0.703000\n",
      "Loss: 1.313926, Train accuracy: 0.773556, val accuracy: 0.693000\n",
      "Loss: 1.074020, Train accuracy: 0.803222, val accuracy: 0.721000\n",
      "Loss: 1.375444, Train accuracy: 0.818778, val accuracy: 0.724000\n",
      "Loss: 1.073526, Train accuracy: 0.819556, val accuracy: 0.734000\n",
      "Loss: 1.007996, Train accuracy: 0.811111, val accuracy: 0.737000\n",
      "Loss: 0.871187, Train accuracy: 0.796889, val accuracy: 0.723000\n",
      "Loss: 1.355233, Train accuracy: 0.766444, val accuracy: 0.698000\n",
      "Loss: 1.069852, Train accuracy: 0.802222, val accuracy: 0.722000\n",
      "Loss: 1.474286, Train accuracy: 0.774556, val accuracy: 0.698000\n",
      "Loss: 1.113121, Train accuracy: 0.809444, val accuracy: 0.726000\n",
      "Loss: 1.520621, Train accuracy: 0.756556, val accuracy: 0.689000\n",
      "Loss: 1.180950, Train accuracy: 0.796444, val accuracy: 0.718000\n",
      "Loss: 1.472063, Train accuracy: 0.780778, val accuracy: 0.691000\n",
      "Loss: 1.103601, Train accuracy: 0.806111, val accuracy: 0.708000\n",
      "Loss: 1.218563, Train accuracy: 0.782111, val accuracy: 0.695000\n",
      "Loss: 1.227436, Train accuracy: 0.790111, val accuracy: 0.708000\n",
      "Loss: 1.401297, Train accuracy: 0.800333, val accuracy: 0.689000\n",
      "Loss: 1.029760, Train accuracy: 0.823222, val accuracy: 0.723000\n",
      "Loss: 1.081003, Train accuracy: 0.809778, val accuracy: 0.711000\n",
      "Loss: 1.133405, Train accuracy: 0.753111, val accuracy: 0.692000\n",
      "Loss: 1.226921, Train accuracy: 0.805778, val accuracy: 0.702000\n",
      "Loss: 1.335036, Train accuracy: 0.816556, val accuracy: 0.712000\n",
      "Loss: 1.336960, Train accuracy: 0.825222, val accuracy: 0.726000\n",
      "Loss: 1.297999, Train accuracy: 0.806556, val accuracy: 0.718000\n",
      "Loss: 1.259912, Train accuracy: 0.809222, val accuracy: 0.705000\n",
      "Loss: 0.719816, Train accuracy: 0.798000, val accuracy: 0.720000\n",
      "Loss: 1.019350, Train accuracy: 0.785556, val accuracy: 0.694000\n",
      "Loss: 1.095357, Train accuracy: 0.782556, val accuracy: 0.680000\n",
      "Loss: 1.289914, Train accuracy: 0.745556, val accuracy: 0.643000\n",
      "Loss: 0.898969, Train accuracy: 0.801111, val accuracy: 0.701000\n",
      "Loss: 1.866274, Train accuracy: 0.800556, val accuracy: 0.721000\n",
      "Loss: 0.959315, Train accuracy: 0.805333, val accuracy: 0.715000\n",
      "Loss: 0.874777, Train accuracy: 0.810889, val accuracy: 0.740000\n",
      "Loss: 1.017918, Train accuracy: 0.794889, val accuracy: 0.712000\n",
      "Loss: 2.057135, Train accuracy: 0.202444, val accuracy: 0.210000\n",
      "Loss: 1.535985, Train accuracy: 0.428556, val accuracy: 0.400000\n",
      "Loss: 1.417233, Train accuracy: 0.570333, val accuracy: 0.563000\n",
      "Loss: 1.523582, Train accuracy: 0.602556, val accuracy: 0.600000\n",
      "Loss: 1.285143, Train accuracy: 0.666889, val accuracy: 0.660000\n",
      "Loss: 1.489812, Train accuracy: 0.672889, val accuracy: 0.657000\n",
      "Loss: 1.244307, Train accuracy: 0.699222, val accuracy: 0.637000\n",
      "Loss: 1.300676, Train accuracy: 0.673333, val accuracy: 0.625000\n",
      "Loss: 1.055232, Train accuracy: 0.654000, val accuracy: 0.630000\n",
      "Loss: 1.381143, Train accuracy: 0.766778, val accuracy: 0.704000\n",
      "Loss: 1.200894, Train accuracy: 0.739000, val accuracy: 0.679000\n",
      "Loss: 0.887965, Train accuracy: 0.733889, val accuracy: 0.683000\n",
      "Loss: 0.899419, Train accuracy: 0.763333, val accuracy: 0.715000\n",
      "Loss: 0.956904, Train accuracy: 0.754667, val accuracy: 0.682000\n",
      "Loss: 1.330436, Train accuracy: 0.767667, val accuracy: 0.706000\n",
      "Loss: 1.163793, Train accuracy: 0.743111, val accuracy: 0.661000\n",
      "Loss: 1.044634, Train accuracy: 0.736333, val accuracy: 0.675000\n",
      "Loss: 1.285395, Train accuracy: 0.744000, val accuracy: 0.679000\n",
      "Loss: 1.386900, Train accuracy: 0.719333, val accuracy: 0.657000\n",
      "Loss: 1.169276, Train accuracy: 0.708111, val accuracy: 0.660000\n",
      "Loss: 1.078921, Train accuracy: 0.783111, val accuracy: 0.726000\n"
     ]
    },
    {
     "name": "stdout",
     "output_type": "stream",
     "text": [
      "Loss: 1.079139, Train accuracy: 0.780667, val accuracy: 0.725000\n",
      "Loss: 1.880982, Train accuracy: 0.779111, val accuracy: 0.705000\n",
      "Loss: 1.304994, Train accuracy: 0.786333, val accuracy: 0.710000\n",
      "Loss: 1.268445, Train accuracy: 0.780889, val accuracy: 0.683000\n",
      "Loss: 1.292394, Train accuracy: 0.759444, val accuracy: 0.694000\n",
      "Loss: 1.237149, Train accuracy: 0.778889, val accuracy: 0.712000\n",
      "Loss: 1.181397, Train accuracy: 0.768444, val accuracy: 0.690000\n",
      "Loss: 1.278447, Train accuracy: 0.815222, val accuracy: 0.751000\n",
      "Loss: 1.500704, Train accuracy: 0.790889, val accuracy: 0.707000\n",
      "Loss: 1.160751, Train accuracy: 0.772667, val accuracy: 0.701000\n",
      "Loss: 1.125044, Train accuracy: 0.791778, val accuracy: 0.715000\n",
      "Loss: 1.040355, Train accuracy: 0.798222, val accuracy: 0.702000\n",
      "Loss: 1.027342, Train accuracy: 0.810444, val accuracy: 0.734000\n",
      "Loss: 1.371027, Train accuracy: 0.725444, val accuracy: 0.677000\n",
      "Loss: 1.390506, Train accuracy: 0.797667, val accuracy: 0.712000\n",
      "Loss: 1.448268, Train accuracy: 0.813333, val accuracy: 0.726000\n",
      "Loss: 1.442749, Train accuracy: 0.778556, val accuracy: 0.718000\n",
      "Loss: 1.269621, Train accuracy: 0.774111, val accuracy: 0.708000\n",
      "Loss: 1.273097, Train accuracy: 0.721889, val accuracy: 0.668000\n",
      "Loss: 0.835206, Train accuracy: 0.797889, val accuracy: 0.726000\n",
      "Loss: 1.034529, Train accuracy: 0.795000, val accuracy: 0.731000\n",
      "Loss: 1.131941, Train accuracy: 0.795444, val accuracy: 0.705000\n",
      "Loss: 1.110886, Train accuracy: 0.780667, val accuracy: 0.710000\n",
      "Loss: 1.043045, Train accuracy: 0.811333, val accuracy: 0.729000\n",
      "Loss: 1.192460, Train accuracy: 0.785333, val accuracy: 0.697000\n",
      "Loss: 1.177068, Train accuracy: 0.732889, val accuracy: 0.672000\n",
      "Loss: 0.934665, Train accuracy: 0.770778, val accuracy: 0.667000\n",
      "Loss: 0.940793, Train accuracy: 0.779000, val accuracy: 0.714000\n",
      "Loss: 1.459568, Train accuracy: 0.787556, val accuracy: 0.707000\n",
      "Loss: 1.105956, Train accuracy: 0.821000, val accuracy: 0.739000\n",
      "Loss: 1.439998, Train accuracy: 0.784111, val accuracy: 0.699000\n",
      "Loss: 1.132699, Train accuracy: 0.765556, val accuracy: 0.685000\n",
      "Loss: 1.729485, Train accuracy: 0.778667, val accuracy: 0.693000\n",
      "Loss: 1.149368, Train accuracy: 0.793000, val accuracy: 0.714000\n",
      "Loss: 1.300335, Train accuracy: 0.769222, val accuracy: 0.711000\n",
      "Loss: 0.873749, Train accuracy: 0.793778, val accuracy: 0.713000\n",
      "Loss: 1.594002, Train accuracy: 0.766222, val accuracy: 0.697000\n",
      "Loss: 0.858232, Train accuracy: 0.785444, val accuracy: 0.702000\n",
      "Loss: 1.244434, Train accuracy: 0.816556, val accuracy: 0.722000\n",
      "Loss: 0.964568, Train accuracy: 0.807222, val accuracy: 0.711000\n",
      "Loss: 1.147064, Train accuracy: 0.759000, val accuracy: 0.683000\n",
      "Loss: 1.216796, Train accuracy: 0.798333, val accuracy: 0.718000\n",
      "Loss: 1.068664, Train accuracy: 0.729667, val accuracy: 0.667000\n",
      "Loss: 1.660530, Train accuracy: 0.769333, val accuracy: 0.688000\n",
      "Loss: 0.922765, Train accuracy: 0.823222, val accuracy: 0.745000\n",
      "Loss: 1.018090, Train accuracy: 0.795889, val accuracy: 0.716000\n",
      "Loss: 1.198127, Train accuracy: 0.788111, val accuracy: 0.704000\n",
      "Loss: 1.391697, Train accuracy: 0.754556, val accuracy: 0.669000\n",
      "Loss: 1.050314, Train accuracy: 0.839778, val accuracy: 0.758000\n",
      "Loss: 1.335188, Train accuracy: 0.834667, val accuracy: 0.732000\n",
      "Loss: 1.061126, Train accuracy: 0.773889, val accuracy: 0.691000\n",
      "Loss: 1.169373, Train accuracy: 0.802778, val accuracy: 0.720000\n",
      "Loss: 1.225859, Train accuracy: 0.821667, val accuracy: 0.737000\n",
      "Loss: 1.106081, Train accuracy: 0.796556, val accuracy: 0.719000\n",
      "Loss: 1.443321, Train accuracy: 0.738444, val accuracy: 0.676000\n",
      "Loss: 1.063303, Train accuracy: 0.781444, val accuracy: 0.721000\n",
      "Loss: 1.329472, Train accuracy: 0.790333, val accuracy: 0.715000\n",
      "Loss: 1.510709, Train accuracy: 0.736333, val accuracy: 0.679000\n",
      "Loss: 1.053438, Train accuracy: 0.776222, val accuracy: 0.718000\n",
      "Loss: 1.533852, Train accuracy: 0.774444, val accuracy: 0.704000\n",
      "Loss: 1.649937, Train accuracy: 0.759222, val accuracy: 0.678000\n",
      "Loss: 0.993746, Train accuracy: 0.823667, val accuracy: 0.732000\n",
      "Loss: 0.808261, Train accuracy: 0.806000, val accuracy: 0.720000\n",
      "Loss: 1.344078, Train accuracy: 0.761222, val accuracy: 0.704000\n",
      "Loss: 1.276041, Train accuracy: 0.747444, val accuracy: 0.689000\n",
      "Loss: 1.302597, Train accuracy: 0.815778, val accuracy: 0.730000\n",
      "Loss: 1.433185, Train accuracy: 0.789556, val accuracy: 0.702000\n",
      "Loss: 0.920442, Train accuracy: 0.805556, val accuracy: 0.737000\n",
      "Loss: 1.095797, Train accuracy: 0.807778, val accuracy: 0.739000\n",
      "Loss: 1.047059, Train accuracy: 0.818000, val accuracy: 0.726000\n",
      "Loss: 1.337934, Train accuracy: 0.810333, val accuracy: 0.734000\n",
      "Loss: 1.100325, Train accuracy: 0.742556, val accuracy: 0.689000\n",
      "Loss: 1.078711, Train accuracy: 0.771222, val accuracy: 0.686000\n",
      "Loss: 1.391074, Train accuracy: 0.816000, val accuracy: 0.729000\n",
      "Loss: 1.199910, Train accuracy: 0.791444, val accuracy: 0.707000\n",
      "Loss: 1.331860, Train accuracy: 0.786111, val accuracy: 0.684000\n",
      "Loss: 1.134815, Train accuracy: 0.819667, val accuracy: 0.722000\n",
      "Loss: 1.456251, Train accuracy: 0.813556, val accuracy: 0.721000\n",
      "Loss: 0.899901, Train accuracy: 0.826333, val accuracy: 0.733000\n",
      "Loss: 0.913273, Train accuracy: 0.795778, val accuracy: 0.710000\n",
      "Loss: 1.093985, Train accuracy: 0.810556, val accuracy: 0.713000\n",
      "Loss: 1.343378, Train accuracy: 0.790000, val accuracy: 0.694000\n",
      "Loss: 1.326831, Train accuracy: 0.718444, val accuracy: 0.655000\n",
      "Loss: 1.403964, Train accuracy: 0.777000, val accuracy: 0.695000\n",
      "Loss: 1.010750, Train accuracy: 0.817444, val accuracy: 0.720000\n",
      "Loss: 0.861666, Train accuracy: 0.806778, val accuracy: 0.719000\n",
      "Loss: 0.994880, Train accuracy: 0.796222, val accuracy: 0.715000\n",
      "Loss: 1.227696, Train accuracy: 0.770000, val accuracy: 0.705000\n",
      "Loss: 1.084364, Train accuracy: 0.819333, val accuracy: 0.733000\n",
      "Loss: 1.518322, Train accuracy: 0.775000, val accuracy: 0.698000\n",
      "Loss: 1.252839, Train accuracy: 0.804778, val accuracy: 0.713000\n",
      "Loss: 1.521019, Train accuracy: 0.811778, val accuracy: 0.728000\n",
      "Loss: 1.308835, Train accuracy: 0.813556, val accuracy: 0.728000\n",
      "Loss: 1.167194, Train accuracy: 0.831222, val accuracy: 0.735000\n",
      "Loss: 1.159759, Train accuracy: 0.813778, val accuracy: 0.725000\n",
      "Loss: 0.780227, Train accuracy: 0.748333, val accuracy: 0.667000\n",
      "Loss: 1.228807, Train accuracy: 0.781889, val accuracy: 0.695000\n",
      "Loss: 1.377882, Train accuracy: 0.831111, val accuracy: 0.727000\n",
      "Loss: 1.473701, Train accuracy: 0.802444, val accuracy: 0.709000\n",
      "best validation accuracy achieved: 0.786000\n"
     ]
    }
   ],
   "source": [
    "# Let's train the best one-hidden-layer network we can\n",
    "\n",
    "# learning_rates = 1e-4\n",
    "# reg_strength = 1e-3\n",
    "# learning_rate_decay = 0.999\n",
    "# hidden_layer_size = 128\n",
    "# num_epochs = 200\n",
    "# batch_size = 64\n",
    "\n",
    "learning_rates = [1e-2, 1e-1]\n",
    "reg_strength = 1e-3\n",
    "learning_rate_decay = 0.999\n",
    "hidden_layer_sizes = [128, 256]\n",
    "num_epochs = 120\n",
    "batch_size = 128\n",
    "\n",
    "best_classifier = None\n",
    "best_val_accuracy = None\n",
    "\n",
    "loss_history = []\n",
    "train_history = []\n",
    "val_history = []\n",
    "\n",
    "for learning_rate in learning_rates:\n",
    "    for hidden_layer in hidden_layer_sizes:\n",
    "        model = TwoLayerNet(n_input = train_X.shape[1], n_output = 10, \n",
    "                            hidden_layer_size = hidden_layer, reg = reg_strength)\n",
    "        dataset = Dataset(train_X, train_y, val_X, val_y)\n",
    "        trainer = Trainer(model, dataset, MomentumSGD(),num_epochs = num_epochs, batch_size = batch_size, \n",
    "                          learning_rate = learning_rate, learning_rate_decay = learning_rate_decay)\n",
    "        loss_history, train_history, val_history, = trainer.fit()\n",
    "        max_val_acc = max(val_history)\n",
    "        if (best_val_accuracy == None or max_val_acc > best_val_accuracy):\n",
    "            best_classifier = model\n",
    "            best_val_accuracy = max_val_acc\n",
    "\n",
    "print('best validation accuracy achieved: %f' % best_val_accuracy)"
   ]
  },
  {
   "cell_type": "code",
   "execution_count": 23,
   "metadata": {},
   "outputs": [
    {
     "data": {
      "text/plain": [
       "[<matplotlib.lines.Line2D at 0x241c5794b20>]"
      ]
     },
     "execution_count": 23,
     "metadata": {},
     "output_type": "execute_result"
    },
    {
     "data": {
      "image/png": "[encoded data removed]",
      "text/plain": [
       "<Figure size 1080x504 with 2 Axes>"
      ]
     },
     "metadata": {
      "needs_background": "light"
     },
     "output_type": "display_data"
    }
   ],
   "source": [
    "plt.figure(figsize=(15, 7))\n",
    "plt.subplot(211)\n",
    "plt.title(\"Loss\")\n",
    "plt.plot(loss_history)\n",
    "plt.subplot(212)\n",
    "plt.title(\"Train/validation accuracy\")\n",
    "plt.plot(train_history)\n",
    "plt.plot(val_history)"
   ]
  },
  {
   "cell_type": "markdown",
   "metadata": {},
   "source": [
    "# Как обычно, посмотрим, как наша лучшая модель работает на тестовых данных"
   ]
  },
  {
   "cell_type": "code",
   "execution_count": 24,
   "metadata": {},
   "outputs": [
    {
     "name": "stdout",
     "output_type": "stream",
     "text": [
      "Neural net test set accuracy: 0.751000\n"
     ]
    }
   ],
   "source": [
    "test_pred = best_classifier.predict(test_X)\n",
    "test_accuracy = multiclass_accuracy(test_pred, test_y)\n",
    "print('Neural net test set accuracy: %f' % (test_accuracy, ))"
   ]
  }
 ],
 "metadata": {
  "kernelspec": {
   "display_name": "Python 3 (ipykernel)",
   "language": "python",
   "name": "python3"
  },
  "language_info": {
   "codemirror_mode": {
    "name": "ipython",
    "version": 3
   },
   "file_extension": ".py",
   "mimetype": "text/x-python",
   "name": "python",
   "nbconvert_exporter": "python",
   "pygments_lexer": "ipython3",
   "version": "3.8.9"
  }
 },
 "nbformat": 4,
 "nbformat_minor": 2
}
