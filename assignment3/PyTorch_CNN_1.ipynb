{
 "cells": [
  {
   "cell_type": "markdown",
   "metadata": {
    "id": "bZCeyWob4mWY"
   },
   "source": [
    "# Задание 3.2 - сверточные нейронные сети (CNNs) в PyTorch\n",
    "\n",
    "Это упражнение мы буде выполнять в Google Colab - https://colab.research.google.com/  \n",
    "Google Colab позволяет запускать код в notebook в облаке Google, где можно воспользоваться бесплатным GPU!  \n",
    "\n",
    "Авторы курса благодарят компанию Google и надеятся, что праздник не закончится.\n",
    "\n",
    "Туториал по настройке Google Colab:  \n",
    "https://medium.com/deep-learning-turkey/google-colab-free-gpu-tutorial-e113627b9f5d  \n",
    "(Keras инсталлировать не нужно, наш notebook сам установит PyTorch)\n"
   ]
  },
  {
   "cell_type": "code",
   "execution_count": null,
   "metadata": {
    "colab": {
     "base_uri": "https://localhost:8080/"
    },
    "id": "FcXBeP1O7cnY",
    "outputId": "74531ac1-cef8-4dd4-e9ec-4855fca957e3"
   },
   "outputs": [],
   "source": [
    "# Intstall PyTorch and download data\n",
    "!pip3 install torch torchvision\n",
    "\n",
    "!wget -c http://ufldl.stanford.edu/housenumbers/train_32x32.mat http://ufldl.stanford.edu/housenumbers/test_32x32.mat"
   ]
  },
  {
   "cell_type": "code",
   "execution_count": 1,
   "metadata": {
    "id": "-afwWw-Q85vD"
   },
   "outputs": [],
   "source": [
    "from collections import namedtuple\n",
    "\n",
    "import matplotlib.pyplot as plt\n",
    "import numpy as np\n",
    "import PIL\n",
    "import torch\n",
    "import torch.nn as nn\n",
    "import torch.optim as optim\n",
    "import torchvision.datasets as dset\n",
    "from torch.utils.data.sampler import SubsetRandomSampler\n",
    "\n",
    "from torchvision import transforms"
   ]
  },
  {
   "cell_type": "code",
   "execution_count": 2,
   "metadata": {
    "id": "NNU-OD9O9ltP"
   },
   "outputs": [],
   "source": [
    "if torch.cuda.is_available():\n",
    "  device = torch.device(\"cuda:0\") # Let's make sure GPU is available!"
   ]
  },
  {
   "cell_type": "markdown",
   "metadata": {
    "id": "t__bmwV44mWg"
   },
   "source": [
    "# Загружаем данные"
   ]
  },
  {
   "cell_type": "code",
   "execution_count": 3,
   "metadata": {
    "id": "YAvkoRx-9FsP"
   },
   "outputs": [],
   "source": [
    "# First, lets load the dataset\n",
    "data_train = dset.SVHN('./', \n",
    "                       transform=transforms.Compose([\n",
    "                           transforms.ToTensor(),\n",
    "                           transforms.Normalize(mean=[0.43,0.44,0.47],\n",
    "                                               std=[0.20,0.20,0.20])                           \n",
    "                       ])\n",
    "                      )\n",
    "data_test = dset.SVHN('./', split='test', transform=transforms.Compose([\n",
    "                           transforms.ToTensor(),\n",
    "                           transforms.Normalize(mean=[0.43,0.44,0.47],\n",
    "                                               std=[0.20,0.20,0.20])                           \n",
    "                       ]))"
   ]
  },
  {
   "cell_type": "markdown",
   "metadata": {
    "id": "HvDVvr_E4mWj"
   },
   "source": [
    "Разделяем данные на training и validation.\n",
    "\n",
    "На всякий случай для подробностей - https://pytorch.org/tutorials/beginner/data_loading_tutorial.html"
   ]
  },
  {
   "cell_type": "code",
   "execution_count": 4,
   "metadata": {
    "id": "YRnr8CPg7Hli"
   },
   "outputs": [],
   "source": [
    "batch_size = 64\n",
    "\n",
    "data_size = data_train.data.shape[0]\n",
    "validation_split = .2\n",
    "split = int(np.floor(validation_split * data_size))\n",
    "indices = list(range(data_size))\n",
    "np.random.shuffle(indices)\n",
    "\n",
    "train_indices, val_indices = indices[split:], indices[:split]\n",
    "\n",
    "train_sampler = SubsetRandomSampler(train_indices)\n",
    "val_sampler = SubsetRandomSampler(val_indices)\n",
    "\n",
    "train_loader = torch.utils.data.DataLoader(data_train, batch_size=batch_size, \n",
    "                                           sampler=train_sampler)\n",
    "val_loader = torch.utils.data.DataLoader(data_train, batch_size=batch_size,\n",
    "                                         sampler=val_sampler)"
   ]
  },
  {
   "cell_type": "code",
   "execution_count": 5,
   "metadata": {
    "id": "LyYvt-T67PBG"
   },
   "outputs": [],
   "source": [
    "# We'll use a special helper module to shape it into a flat tensor\n",
    "class Flattener(nn.Module):\n",
    "    def forward(self, x):\n",
    "        batch_size, *_ = x.shape\n",
    "        return x.view(batch_size, -1)"
   ]
  },
  {
   "cell_type": "markdown",
   "metadata": {
    "id": "HxJCthEq4mWo"
   },
   "source": [
    "Создадим простейшую сеть с новыми слоями:  \n",
    "Convolutional - `nn.Conv2d`  \n",
    "MaxPool - `nn.MaxPool2d`"
   ]
  },
  {
   "cell_type": "code",
   "execution_count": 6,
   "metadata": {
    "id": "w9SFVGZP7SQd"
   },
   "outputs": [],
   "source": [
    "nn_model = nn.Sequential(\n",
    "            nn.Conv2d(3, 64, 3, padding=1),\n",
    "            nn.ReLU(inplace=True),\n",
    "            nn.MaxPool2d(4),\n",
    "            nn.Conv2d(64, 64, 3, padding=1),\n",
    "            nn.ReLU(inplace=True),\n",
    "            nn.MaxPool2d(4),    \n",
    "            Flattener(),\n",
    "            nn.Linear(64*2*2, 10),\n",
    "          )\n",
    "if torch.cuda.is_available():\n",
    "  nn_model.type(torch.cuda.FloatTensor)\n",
    "  nn_model.to(device)\n",
    "else:\n",
    "  nn_model.type(torch.FloatTensor)\n",
    "loss = nn.CrossEntropyLoss().type(torch.cuda.FloatTensor)\n",
    "optimizer = optim.SGD(nn_model.parameters(), lr=1e-1, weight_decay=1e-4)"
   ]
  },
  {
   "cell_type": "markdown",
   "metadata": {
    "id": "he_SGZXj4mWq"
   },
   "source": [
    "Восстановите функцию `compute_accuracy` из прошлого задания.  \n",
    "Единственное отличие в новом - она должна передать данные на GPU прежде чем прогонять через модель. Сделайте это так же, как это делает функция `train_model`"
   ]
  },
  {
   "cell_type": "code",
   "execution_count": 7,
   "metadata": {
    "colab": {
     "base_uri": "https://localhost:8080/"
    },
    "id": "2ek3KVQK7hJ6",
    "outputId": "3a09235b-2f99-454c-8bf0-1b562de27bdd"
   },
   "outputs": [
    {
     "name": "stdout",
     "output_type": "stream",
     "text": [
      "Average loss: 1.386774, Train accuracy: 0.538409, Val accuracy: 0.764589\n",
      "Average loss: 0.712132, Train accuracy: 0.783828, Val accuracy: 0.792164\n",
      "Average loss: 0.613365, Train accuracy: 0.816009, Val accuracy: 0.816941\n",
      "Average loss: 0.561106, Train accuracy: 0.832389, Val accuracy: 0.814961\n",
      "Average loss: 0.527000, Train accuracy: 0.843924, Val accuracy: 0.824517\n"
     ]
    }
   ],
   "source": [
    "def train_model(model, train_loader, val_loader, loss, optimizer, num_epochs):    \n",
    "    loss_history = []\n",
    "    train_history = []\n",
    "    val_history = []\n",
    "    for epoch in range(num_epochs):\n",
    "        model.train() # Enter train mode\n",
    "        \n",
    "        loss_accum = 0\n",
    "        correct_samples = 0\n",
    "        total_samples = 0\n",
    "        for i_step, (x, y) in enumerate(train_loader):\n",
    "            if torch.cuda.is_available():\n",
    "              x_gpu = x.to(device)\n",
    "              y_gpu = y.to(device)\n",
    "            else: \n",
    "              x_gpu = x\n",
    "              y_gpu = y\n",
    "            prediction = model(x_gpu)    \n",
    "            loss_value = loss(prediction, y_gpu)\n",
    "            optimizer.zero_grad()\n",
    "            loss_value.backward()\n",
    "            optimizer.step()\n",
    "            \n",
    "            _, indices = torch.max(prediction, 1)\n",
    "            correct_samples += torch.sum(indices == y_gpu)\n",
    "            total_samples += y.shape[0]\n",
    "            \n",
    "            loss_accum += loss_value\n",
    "\n",
    "        ave_loss = loss_accum / i_step\n",
    "        train_accuracy = float(correct_samples) / total_samples\n",
    "        val_accuracy = compute_accuracy(model, val_loader)\n",
    "        \n",
    "        loss_history.append(float(ave_loss))\n",
    "        train_history.append(train_accuracy)\n",
    "        val_history.append(val_accuracy)\n",
    "        \n",
    "        print(\"Average loss: %f, Train accuracy: %f, Val accuracy: %f\" % (ave_loss, train_accuracy, val_accuracy))\n",
    "        \n",
    "    return loss_history, train_history, val_history\n",
    "        \n",
    "def compute_accuracy(model, loader):\n",
    "    \"\"\"\n",
    "    Computes accuracy on the dataset wrapped in a loader\n",
    "    \n",
    "    Returns: accuracy as a float value between 0 and 1\n",
    "    \"\"\"\n",
    "    model.eval() # Evaluation mode\n",
    "    # TODO: Copy implementation from previous assignment\n",
    "    # Don't forget to move the data to device before running it through the model!\n",
    "    total = 0\n",
    "    correct = 0\n",
    "    for x, y in val_loader:\n",
    "      if torch.cuda.is_available():\n",
    "        x_gpu, y_gpu = x.to(device), y.to(device)\n",
    "      else:\n",
    "        x_gpu, y_gpu = x, y\n",
    "      outputs = model(x_gpu)\n",
    "      _, pred = torch.max(outputs.data, 1)\n",
    "      total += y.size(0)\n",
    "      correct += (pred == y_gpu).sum().item()\n",
    "\n",
    "    return correct / total\n",
    "\n",
    "loss_history, train_history, val_history = train_model(nn_model, train_loader, val_loader, loss, optimizer, 5)\n",
    "\n"
   ]
  },
  {
   "cell_type": "markdown",
   "metadata": {
    "id": "6a-3a1ZFGEw_"
   },
   "source": [
    "# Аугментация данных (Data augmentation)\n",
    "\n",
    "В работе с изображениями одним из особенно важных методов является аугментация данных - то есть, генерация дополнительных данных для тренировки на основе изначальных.   \n",
    "Таким образом, мы получаем возможность \"увеличить\" набор данных для тренировки, что ведет к лучшей работе сети.\n",
    "Важно, чтобы аугментированные данные были похожи на те, которые могут встретиться в реальной жизни, иначе польза от аугментаций уменьшается и может ухудшить работу сети.\n",
    "\n",
    "С PyTorch идут несколько таких алгоритмов, называемых `transforms`. Более подробно про них можно прочитать тут -\n",
    "https://pytorch.org/tutorials/beginner/data_loading_tutorial.html#transforms\n",
    "\n",
    "Ниже мы используем следующие алгоритмы генерации:\n",
    "- ColorJitter - случайное изменение цвета\n",
    "- RandomHorizontalFlip - горизонтальное отражение с вероятностью 50%\n",
    "- RandomVerticalFlip - вертикальное отражение с вероятностью 50%\n",
    "- RandomRotation - случайный поворот"
   ]
  },
  {
   "cell_type": "code",
   "execution_count": 8,
   "metadata": {
    "colab": {
     "base_uri": "https://localhost:8080/"
    },
    "id": "jCWMUWmr7t5g",
    "outputId": "10c95269-b25a-4738-ee32-da51f61c6803"
   },
   "outputs": [
    {
     "name": "stderr",
     "output_type": "stream",
     "text": [
      "/home/vbond/Загрузки/Deep-Learning/dlcourse_ai/.venv/lib/python3.8/site-packages/torchvision/transforms/transforms.py:1292: UserWarning: The parameter 'resample' is deprecated since 0.12 and will be removed 0.14. Please use 'interpolation' instead.\n",
      "  warnings.warn(\n"
     ]
    }
   ],
   "source": [
    "tfs = transforms.Compose([\n",
    "    transforms.ColorJitter(hue=.50, saturation=.50),\n",
    "    transforms.RandomHorizontalFlip(),\n",
    "    transforms.RandomVerticalFlip(),\n",
    "    transforms.RandomRotation(50, resample=PIL.Image.BILINEAR),\n",
    "    transforms.ToTensor(),\n",
    "    transforms.Normalize(mean=[0.43,0.44,0.47],\n",
    "                       std=[0.20,0.20,0.20])                           \n",
    "])\n",
    "\n",
    "# Create augmented train dataset\n",
    "data_aug_train = dset.SVHN('./', \n",
    "                       transform=tfs\n",
    "                      )\n",
    "\n",
    "train_aug_loader = torch.utils.data.DataLoader(data_aug_train, batch_size=batch_size, \n",
    "                                           sampler=train_sampler)"
   ]
  },
  {
   "cell_type": "markdown",
   "metadata": {
    "id": "3TiSVezO4mWv"
   },
   "source": [
    "Визуализируем результаты агментации (вообще, смотреть на сгенерированные данные всегда очень полезно)."
   ]
  },
  {
   "cell_type": "code",
   "execution_count": 9,
   "metadata": {
    "colab": {
     "base_uri": "https://localhost:8080/",
     "height": 202
    },
    "id": "YlJJEro1KZ45",
    "outputId": "f6bbe3ee-c0af-4cc4-9f52-3969159327a1"
   },
   "outputs": [
    {
     "data": {
      "image/png": "[encoded data removed]",
      "text/plain": [
       "<Figure size 2160x216 with 10 Axes>"
      ]
     },
     "metadata": {
      "needs_background": "light"
     },
     "output_type": "display_data"
    }
   ],
   "source": [
    "# TODO: Visualize some augmented images!\n",
    "# hint: you can create new datasets and loaders to accomplish this\n",
    "\n",
    "# Based on the visualizations, should we keep all the augmentations?\n",
    "\n",
    "tfs = transforms.Compose([\n",
    "    transforms.ColorJitter(hue=.20, saturation=.20),\n",
    "    transforms.RandomHorizontalFlip(),\n",
    "    transforms.RandomVerticalFlip(),\n",
    "    transforms.RandomRotation(10, resample=PIL.Image.BILINEAR),\n",
    "])\n",
    "\n",
    "data_aug_vis = dset.SVHN('./', \n",
    "                       transform=tfs\n",
    "                      )\n",
    "\n",
    "plt.figure(figsize=(30, 3))\n",
    "\n",
    "for i, (x, y) in enumerate(data_aug_vis):\n",
    "    if i == 10:\n",
    "        break\n",
    "    plt.subplot(1, 10, i+1)\n",
    "    plt.grid(False)\n",
    "    plt.imshow(x)\n",
    "    plt.axis('off')"
   ]
  },
  {
   "cell_type": "markdown",
   "metadata": {
    "id": "o2LrmsYHoguB"
   },
   "source": [
    "Все ли агментации одинаково полезны на этом наборе данных? Могут ли быть среди них те, которые собьют модель с толку?\n",
    "\n",
    "Выберите из них только корректные"
   ]
  },
  {
   "cell_type": "code",
   "execution_count": 10,
   "metadata": {
    "colab": {
     "base_uri": "https://localhost:8080/"
    },
    "id": "evro9ksXGs9u",
    "outputId": "0677d0f3-d172-4179-ce84-0fbd770cefbe"
   },
   "outputs": [],
   "source": [
    "# TODO: \n",
    "tfs = transforms.Compose([\n",
    "    transforms.ColorJitter(hue=.20, saturation=.20),\n",
    "    transforms.RandomRotation(10, resample=PIL.Image.BILINEAR),\n",
    "    # TODO: Add good augmentations\n",
    "    transforms.ToTensor(),\n",
    "    transforms.Normalize(mean=[0.43,0.44,0.47],\n",
    "                       std=[0.20,0.20,0.20])                           \n",
    "])\n",
    "\n",
    "data_aug_train = dset.SVHN('./', \n",
    "                       transform=tfs\n",
    "                      )\n",
    "\n",
    "# TODO create new instances of loaders with the augmentations you chose\n",
    "train_aug_loader = torch.utils.data.DataLoader(data_aug_train, batch_size=batch_size, \n",
    "                                           sampler=train_sampler)"
   ]
  },
  {
   "cell_type": "code",
   "execution_count": 11,
   "metadata": {
    "colab": {
     "base_uri": "https://localhost:8080/"
    },
    "id": "PeO6Zw0DHqPR",
    "outputId": "66e62dbd-7369-45d3-aa99-81007a37de37"
   },
   "outputs": [
    {
     "name": "stdout",
     "output_type": "stream",
     "text": [
      "Average loss: 0.619938, Train accuracy: 0.810856, Val accuracy: 0.818101\n",
      "Average loss: 0.567950, Train accuracy: 0.827202, Val accuracy: 0.838032\n",
      "Average loss: 0.546445, Train accuracy: 0.834966, Val accuracy: 0.831070\n",
      "Average loss: 0.529258, Train accuracy: 0.838907, Val accuracy: 0.832298\n",
      "Average loss: 0.515431, Train accuracy: 0.843617, Val accuracy: 0.846017\n"
     ]
    }
   ],
   "source": [
    "# Finally, let's train with augmentations!\n",
    "\n",
    "# Note we shouldn't use augmentations on validation\n",
    "\n",
    "loss_history, train_history, val_history = train_model(nn_model, train_aug_loader, val_loader, loss, optimizer, 5)\n",
    "\n"
   ]
  },
  {
   "cell_type": "markdown",
   "metadata": {
    "id": "r0bcioK6JBDK"
   },
   "source": [
    "# LeNet\n",
    "Попробуем имплементировать классическую архитектуру сверточной нейронной сети, предложенную Яном ЛеКуном в 1998 году. В свое время она достигла впечатляющих результатов на MNIST, посмотрим как она справится с SVHN?\n",
    "Она описана в статье [\"Gradient Based Learning Applied to Document Recognition\"](http://yann.lecun.com/exdb/publis/pdf/lecun-01a.pdf), попробуйте прочитать ключевые части и имплементировать предложенную архитетуру на PyTorch.\n",
    "\n",
    "Реализовывать слои и функцию ошибки LeNet, которых нет в PyTorch, **не нужно** - просто возьмите их размеры и переведите в уже известные нам Convolutional, Pooling и Fully Connected layers.\n",
    "\n",
    "Если в статье не очень понятно, можно просто погуглить LeNet и разобраться в деталях :)"
   ]
  },
  {
   "cell_type": "code",
   "execution_count": 12,
   "metadata": {
    "id": "ieEzZUglJAUB"
   },
   "outputs": [],
   "source": [
    "# TODO: Implement LeNet-like architecture for SVHN task\n",
    "lenet_model = nn.Sequential(\n",
    "            nn.Conv2d(in_channels=3, out_channels=6, kernel_size=5, stride=1),\n",
    "            nn.ReLU(inplace=True),\n",
    "            nn.MaxPool2d(kernel_size=2),\n",
    "            nn.Conv2d(in_channels=6, out_channels=16, kernel_size=5, stride=1),\n",
    "            nn.ReLU(inplace=True),\n",
    "            nn.MaxPool2d(kernel_size=2), \n",
    "            nn.Conv2d(in_channels=16, out_channels=120, kernel_size=5, stride=1),\n",
    "            nn.ReLU(inplace=True),\n",
    "            Flattener(),\n",
    "            nn.Linear(in_features=120, out_features=84),\n",
    "            nn.ReLU(inplace=True),\n",
    "            nn.Linear(in_features=84, out_features=10),\n",
    "          )\n",
    "if torch.cuda.is_available():\n",
    "  lenet_model.type(torch.cuda.FloatTensor)\n",
    "  lenet_model.to(device)\n",
    "\n",
    "  loss = nn.CrossEntropyLoss().type(torch.cuda.FloatTensor)\n",
    "else:\n",
    "  lenet_model.type(torch.FloatTensor)\n",
    "  loss = nn.CrossEntropyLoss().type(torch.FloatTensor)\n",
    "  \n",
    "optimizer = optim.SGD(lenet_model.parameters(), lr=1e-1, weight_decay=1e-4)"
   ]
  },
  {
   "cell_type": "code",
   "execution_count": 13,
   "metadata": {
    "colab": {
     "base_uri": "https://localhost:8080/"
    },
    "id": "WMmaPfdeKk9H",
    "outputId": "e1174432-a798-4db2-d4d1-28f455513b5f"
   },
   "outputs": [
    {
     "name": "stdout",
     "output_type": "stream",
     "text": [
      "Average loss: 1.374738, Train accuracy: 0.538307, Val accuracy: 0.815985\n",
      "Average loss: 0.558141, Train accuracy: 0.834403, Val accuracy: 0.846086\n",
      "Average loss: 0.459824, Train accuracy: 0.863000, Val accuracy: 0.876664\n",
      "Average loss: 0.408912, Train accuracy: 0.877282, Val accuracy: 0.881919\n",
      "Average loss: 0.376687, Train accuracy: 0.887844, Val accuracy: 0.893523\n",
      "Average loss: 0.351698, Train accuracy: 0.894789, Val accuracy: 0.885537\n",
      "Average loss: 0.330522, Train accuracy: 0.900932, Val accuracy: 0.894342\n",
      "Average loss: 0.313298, Train accuracy: 0.906034, Val accuracy: 0.887380\n",
      "Average loss: 0.299197, Train accuracy: 0.908883, Val accuracy: 0.891065\n",
      "Average loss: 0.289654, Train accuracy: 0.911903, Val accuracy: 0.898505\n"
     ]
    }
   ],
   "source": [
    "# Let's train it!\n",
    "loss_history, train_history, val_history = train_model(lenet_model, train_aug_loader, val_loader, loss, optimizer, 10)"
   ]
  },
  {
   "cell_type": "markdown",
   "metadata": {
    "id": "u_O9qiYySvuj"
   },
   "source": [
    "# Подбор гиперпараметров"
   ]
  },
  {
   "cell_type": "code",
   "execution_count": 14,
   "metadata": {
    "colab": {
     "background_save": true,
     "base_uri": "https://localhost:8080/"
    },
    "id": "i6mhfdQ9K-N3",
    "outputId": "f735e183-83c2-4e7c-8342-29b3033e2b7d"
   },
   "outputs": [
    {
     "name": "stdout",
     "output_type": "stream",
     "text": [
      "lr: 0.100000, wd: 0.001000\n",
      "Average loss: 1.455680, Train accuracy: 0.501621, Val accuracy: 0.787250\n",
      "Average loss: 0.575631, Train accuracy: 0.826946, Val accuracy: 0.840420\n",
      "Average loss: 0.474984, Train accuracy: 0.857079, Val accuracy: 0.872364\n",
      "Average loss: 0.425270, Train accuracy: 0.873443, Val accuracy: 0.877619\n",
      "Average loss: 0.394202, Train accuracy: 0.881343, Val accuracy: 0.881237\n",
      "lr: 0.100000, wd: 0.000100\n",
      "Average loss: 0.371428, Train accuracy: 0.888851, Val accuracy: 0.887243\n",
      "Average loss: 0.342458, Train accuracy: 0.896171, Val accuracy: 0.884513\n",
      "Average loss: 0.325500, Train accuracy: 0.903457, Val accuracy: 0.872568\n",
      "Average loss: 0.308734, Train accuracy: 0.906955, Val accuracy: 0.885537\n",
      "Average loss: 0.295242, Train accuracy: 0.911221, Val accuracy: 0.898846\n",
      "lr: 0.100000, wd: 0.000010\n",
      "Average loss: 0.284338, Train accuracy: 0.912995, Val accuracy: 0.894615\n",
      "Average loss: 0.275013, Train accuracy: 0.916800, Val accuracy: 0.897686\n",
      "Average loss: 0.265698, Train accuracy: 0.919991, Val accuracy: 0.898027\n",
      "Average loss: 0.257073, Train accuracy: 0.921237, Val accuracy: 0.894615\n",
      "Average loss: 0.251570, Train accuracy: 0.923660, Val accuracy: 0.896458\n",
      "lr: 0.010000, wd: 0.001000\n",
      "Average loss: 0.182680, Train accuracy: 0.945142, Val accuracy: 0.912702\n",
      "Average loss: 0.168905, Train accuracy: 0.949903, Val accuracy: 0.913931\n",
      "Average loss: 0.162450, Train accuracy: 0.951967, Val accuracy: 0.914204\n",
      "Average loss: 0.157722, Train accuracy: 0.952684, Val accuracy: 0.912839\n",
      "Average loss: 0.158387, Train accuracy: 0.952735, Val accuracy: 0.912702\n",
      "lr: 0.010000, wd: 0.000100\n",
      "Average loss: 0.151408, Train accuracy: 0.954510, Val accuracy: 0.912429\n",
      "Average loss: 0.148394, Train accuracy: 0.955295, Val accuracy: 0.913453\n",
      "Average loss: 0.144917, Train accuracy: 0.956301, Val accuracy: 0.913180\n",
      "Average loss: 0.144336, Train accuracy: 0.956779, Val accuracy: 0.913316\n",
      "Average loss: 0.142277, Train accuracy: 0.956933, Val accuracy: 0.913385\n",
      "lr: 0.010000, wd: 0.000010\n",
      "Average loss: 0.137633, Train accuracy: 0.958895, Val accuracy: 0.912634\n",
      "Average loss: 0.137354, Train accuracy: 0.958110, Val accuracy: 0.912566\n",
      "Average loss: 0.134830, Train accuracy: 0.959595, Val accuracy: 0.911610\n",
      "Average loss: 0.131007, Train accuracy: 0.959680, Val accuracy: 0.913112\n",
      "Average loss: 0.131607, Train accuracy: 0.960704, Val accuracy: 0.913385\n",
      "lr: 0.001000, wd: 0.001000\n",
      "Average loss: 0.123752, Train accuracy: 0.962325, Val accuracy: 0.912566\n",
      "Average loss: 0.120845, Train accuracy: 0.964287, Val accuracy: 0.912088\n",
      "Average loss: 0.122730, Train accuracy: 0.963826, Val accuracy: 0.912702\n",
      "Average loss: 0.119812, Train accuracy: 0.964133, Val accuracy: 0.912566\n",
      "Average loss: 0.121148, Train accuracy: 0.963434, Val accuracy: 0.912429\n",
      "lr: 0.001000, wd: 0.000100\n",
      "Average loss: 0.121416, Train accuracy: 0.963963, Val accuracy: 0.912156\n",
      "Average loss: 0.120682, Train accuracy: 0.964167, Val accuracy: 0.912770\n",
      "Average loss: 0.120284, Train accuracy: 0.963929, Val accuracy: 0.912088\n",
      "Average loss: 0.119439, Train accuracy: 0.964645, Val accuracy: 0.912702\n",
      "Average loss: 0.119180, Train accuracy: 0.964611, Val accuracy: 0.912429\n",
      "lr: 0.001000, wd: 0.000010\n",
      "Average loss: 0.118413, Train accuracy: 0.964594, Val accuracy: 0.912907\n",
      "Average loss: 0.117502, Train accuracy: 0.965106, Val accuracy: 0.912429\n",
      "Average loss: 0.117633, Train accuracy: 0.964441, Val accuracy: 0.912293\n",
      "Average loss: 0.116452, Train accuracy: 0.965021, Val accuracy: 0.912429\n",
      "Average loss: 0.118797, Train accuracy: 0.963946, Val accuracy: 0.912702\n",
      "lr: 0.000100, wd: 0.001000\n",
      "Average loss: 0.116118, Train accuracy: 0.964884, Val accuracy: 0.912634\n",
      "Average loss: 0.118765, Train accuracy: 0.964116, Val accuracy: 0.912429\n",
      "Average loss: 0.120415, Train accuracy: 0.963348, Val accuracy: 0.912634\n",
      "Average loss: 0.117858, Train accuracy: 0.964628, Val accuracy: 0.912497\n",
      "Average loss: 0.117797, Train accuracy: 0.964782, Val accuracy: 0.912497\n",
      "lr: 0.000100, wd: 0.000100\n",
      "Average loss: 0.117817, Train accuracy: 0.963553, Val accuracy: 0.912566\n",
      "Average loss: 0.117213, Train accuracy: 0.965533, Val accuracy: 0.912497\n",
      "Average loss: 0.119843, Train accuracy: 0.964287, Val accuracy: 0.912429\n",
      "Average loss: 0.116909, Train accuracy: 0.964543, Val accuracy: 0.912429\n",
      "Average loss: 0.117273, Train accuracy: 0.964987, Val accuracy: 0.912566\n",
      "lr: 0.000100, wd: 0.000010\n",
      "Average loss: 0.115191, Train accuracy: 0.965720, Val accuracy: 0.912634\n",
      "Average loss: 0.115545, Train accuracy: 0.965464, Val accuracy: 0.912566\n",
      "Average loss: 0.116318, Train accuracy: 0.965311, Val accuracy: 0.912497\n",
      "Average loss: 0.117253, Train accuracy: 0.965038, Val accuracy: 0.912566\n",
      "Average loss: 0.117144, Train accuracy: 0.964543, Val accuracy: 0.912770\n"
     ]
    }
   ],
   "source": [
    "# The key hyperparameters we're going to tune are learning speed, annealing rate and regularization\n",
    "# We also encourage you to try different optimizers as well\n",
    "\n",
    "lenet_model = nn.Sequential(\n",
    "            nn.Conv2d(in_channels=3, out_channels=6, kernel_size=5, stride=1),\n",
    "            nn.ReLU(inplace=True),\n",
    "            nn.MaxPool2d(kernel_size=2),\n",
    "            nn.Conv2d(in_channels=6, out_channels=16, kernel_size=5, stride=1),\n",
    "            nn.ReLU(inplace=True),\n",
    "            nn.MaxPool2d(kernel_size=2), \n",
    "            nn.Conv2d(in_channels=16, out_channels=120, kernel_size=5, stride=1),\n",
    "            nn.ReLU(inplace=True),\n",
    "            Flattener(),\n",
    "            nn.Linear(in_features=120, out_features=84),\n",
    "            nn.ReLU(inplace=True),\n",
    "            nn.Linear(in_features=84, out_features=10),\n",
    "          )\n",
    "if torch.cuda.is_available():\n",
    "  lenet_model.type(torch.cuda.FloatTensor)\n",
    "  lenet_model.to(device)\n",
    "\n",
    "  loss = nn.CrossEntropyLoss().type(torch.cuda.FloatTensor)\n",
    "else:\n",
    "  lenet_model.type(torch.FloatTensor)\n",
    "\n",
    "  loss = nn.CrossEntropyLoss().type(torch.FloatTensor)\n",
    "\n",
    "Hyperparams = namedtuple(\"Hyperparams\", ['learning_rate', 'reg'])\n",
    "RunResult = namedtuple(\"RunResult\", ['model', 'train_history', 'val_history', 'final_val_accuracy'])\n",
    "\n",
    "learning_rates = [1e-1, 1e-2, 1e-3, 1e-4]\n",
    "anneal_coeff = 0.2\n",
    "anneal_epochs = [1, 5, 10, 15, 20, 50]\n",
    "reg = [1e-3, 1e-4, 1e-5]\n",
    "\n",
    "batch_size = 64\n",
    "epoch_num = 5\n",
    "\n",
    "# Record all the runs here\n",
    "# Key should be Hyperparams and values should be RunResult\n",
    "run_record = {} \n",
    "\n",
    "# Use grid search or random search and record all runs in run_record dictionnary \n",
    "# Important: perform search in logarithmic space!\n",
    "\n",
    "# TODO: Your code here!\n",
    "\n",
    "for learning_rate in learning_rates:\n",
    "    for wd in reg:\n",
    "        print(\"lr: %f, wd: %f\" % (learning_rate, wd))\n",
    "        optimizer = optim.SGD(lenet_model.parameters(), lr=learning_rate, weight_decay=wd)\n",
    "        loss_history, train_history, val_history = train_model(lenet_model, train_aug_loader, val_loader, loss, optimizer, epoch_num)\n",
    "        run_record[Hyperparams(learning_rate, wd)] = RunResult(lenet_model, train_history, val_history, val_history[-1])"
   ]
  },
  {
   "cell_type": "code",
   "execution_count": 16,
   "metadata": {
    "colab": {
     "background_save": true
    },
    "id": "Y6xExdw8JB1l"
   },
   "outputs": [
    {
     "name": "stdout",
     "output_type": "stream",
     "text": [
      "Best validation accuracy: 0.91, best hyperparams: Hyperparams(learning_rate=0.01, reg=0.0001)\n"
     ]
    }
   ],
   "source": [
    "best_val_accuracy = None\n",
    "best_hyperparams = None\n",
    "best_run = None\n",
    "\n",
    "for hyperparams, run_result in run_record.items():\n",
    "    if best_val_accuracy is None or best_val_accuracy < run_result.final_val_accuracy:\n",
    "        best_val_accuracy = run_result.final_val_accuracy\n",
    "        best_hyperparams = hyperparams\n",
    "        best_run = run_result\n",
    "        \n",
    "print(\"Best validation accuracy: %4.2f, best hyperparams: %s\" % (best_val_accuracy, best_hyperparams))\n",
    "\n",
    "# PATH = \"/content/drive/MyDrive/Neuro/Parameters.txt\"\n",
    "\n",
    "# torch.save({\n",
    "# 'best_val_accuracy':best_val_accuracy,\n",
    "# 'best_hyperparams':best_hyperparams,\n",
    "# }, PATH)\n",
    "        "
   ]
  },
  {
   "cell_type": "code",
   "execution_count": null,
   "metadata": {
    "colab": {
     "background_save": true
    },
    "id": "-fBXl8mJLzfE"
   },
   "outputs": [],
   "source": [
    "# from google.colab import drive\n",
    "# drive.mount('/content/drive')"
   ]
  },
  {
   "cell_type": "markdown",
   "metadata": {
    "id": "LOmsR0uVgtgf"
   },
   "source": [
    "# Свободное упражнение - догоним и перегоним LeNet!\n",
    "\n",
    "Попробуйте найти архитектуру и настройки тренировки, чтобы выступить лучше наших бейзлайнов.\n",
    "\n",
    "Что можно и нужно попробовать:\n",
    "- BatchNormalization (для convolution layers он в PyTorch называется [batchnorm2d](https://pytorch.org/docs/stable/nn.html#batchnorm2d))\n",
    "- Изменить количество слоев и их толщину\n",
    "- Изменять количество эпох тренировки\n",
    "- Попробовать и другие агментации"
   ]
  },
  {
   "cell_type": "code",
   "execution_count": 17,
   "metadata": {
    "colab": {
     "background_save": true,
     "base_uri": "https://localhost:8080/"
    },
    "id": "tSVhD747icoc",
    "outputId": "c27ded57-5f8d-4add-f50c-936591b699ca"
   },
   "outputs": [
    {
     "name": "stdout",
     "output_type": "stream",
     "text": [
      "lr: 0.100000, wd: 0.001000\n",
      "Average loss: 0.873470, Train accuracy: 0.719380, Val accuracy: 0.833117\n",
      "Average loss: 0.543675, Train accuracy: 0.830069, Val accuracy: 0.869292\n",
      "Average loss: 0.476951, Train accuracy: 0.853291, Val accuracy: 0.880349\n",
      "Average loss: 0.445240, Train accuracy: 0.862710, Val accuracy: 0.881646\n",
      "Average loss: 0.421397, Train accuracy: 0.868853, Val accuracy: 0.885469\n",
      "Average loss: 0.403190, Train accuracy: 0.876412, Val accuracy: 0.887857\n",
      "Average loss: 0.389268, Train accuracy: 0.880729, Val accuracy: 0.895843\n",
      "Average loss: 0.384490, Train accuracy: 0.882316, Val accuracy: 0.892362\n",
      "Average loss: 0.378169, Train accuracy: 0.883886, Val accuracy: 0.898505\n",
      "Average loss: 0.369260, Train accuracy: 0.886155, Val accuracy: 0.890519\n",
      "lr: 0.100000, wd: 0.000100\n",
      "Average loss: 0.361676, Train accuracy: 0.888134, Val accuracy: 0.901713\n",
      "Average loss: 0.349548, Train accuracy: 0.892093, Val accuracy: 0.905058\n",
      "Average loss: 0.336383, Train accuracy: 0.895181, Val accuracy: 0.900485\n",
      "Average loss: 0.322234, Train accuracy: 0.900915, Val accuracy: 0.904580\n",
      "Average loss: 0.311886, Train accuracy: 0.902877, Val accuracy: 0.908061\n",
      "Average loss: 0.305282, Train accuracy: 0.905283, Val accuracy: 0.905808\n",
      "Average loss: 0.297574, Train accuracy: 0.908747, Val accuracy: 0.901713\n",
      "Average loss: 0.294330, Train accuracy: 0.909088, Val accuracy: 0.910109\n",
      "Average loss: 0.285935, Train accuracy: 0.912279, Val accuracy: 0.908402\n",
      "Average loss: 0.282519, Train accuracy: 0.911801, Val accuracy: 0.911883\n",
      "lr: 0.100000, wd: 0.000010\n",
      "Average loss: 0.275846, Train accuracy: 0.914309, Val accuracy: 0.910177\n",
      "Average loss: 0.272571, Train accuracy: 0.916647, Val accuracy: 0.911610\n",
      "Average loss: 0.273604, Train accuracy: 0.915794, Val accuracy: 0.910450\n",
      "Average loss: 0.267188, Train accuracy: 0.916732, Val accuracy: 0.908334\n",
      "Average loss: 0.260990, Train accuracy: 0.919223, Val accuracy: 0.912361\n",
      "Average loss: 0.253687, Train accuracy: 0.921356, Val accuracy: 0.914477\n",
      "Average loss: 0.250459, Train accuracy: 0.923062, Val accuracy: 0.912975\n",
      "Average loss: 0.249047, Train accuracy: 0.921544, Val accuracy: 0.914477\n",
      "Average loss: 0.248329, Train accuracy: 0.922858, Val accuracy: 0.911883\n",
      "Average loss: 0.243750, Train accuracy: 0.923318, Val accuracy: 0.913043\n",
      "lr: 0.010000, wd: 0.001000\n",
      "Average loss: 0.210805, Train accuracy: 0.934068, Val accuracy: 0.916797\n",
      "Average loss: 0.202274, Train accuracy: 0.938197, Val accuracy: 0.918504\n",
      "Average loss: 0.198331, Train accuracy: 0.939511, Val accuracy: 0.917958\n",
      "Average loss: 0.194294, Train accuracy: 0.941166, Val accuracy: 0.920415\n",
      "Average loss: 0.193519, Train accuracy: 0.940740, Val accuracy: 0.919596\n",
      "Average loss: 0.190345, Train accuracy: 0.941883, Val accuracy: 0.920756\n",
      "Average loss: 0.190830, Train accuracy: 0.941917, Val accuracy: 0.918982\n",
      "Average loss: 0.188390, Train accuracy: 0.942293, Val accuracy: 0.918367\n",
      "Average loss: 0.190189, Train accuracy: 0.942173, Val accuracy: 0.919459\n",
      "Average loss: 0.189434, Train accuracy: 0.941730, Val accuracy: 0.919596\n",
      "lr: 0.010000, wd: 0.000100\n",
      "Average loss: 0.186915, Train accuracy: 0.942958, Val accuracy: 0.918640\n",
      "Average loss: 0.185279, Train accuracy: 0.943146, Val accuracy: 0.919937\n",
      "Average loss: 0.182810, Train accuracy: 0.944852, Val accuracy: 0.919937\n",
      "Average loss: 0.184863, Train accuracy: 0.943351, Val accuracy: 0.919664\n",
      "Average loss: 0.182814, Train accuracy: 0.944170, Val accuracy: 0.920210\n",
      "Average loss: 0.179635, Train accuracy: 0.945279, Val accuracy: 0.918367\n",
      "Average loss: 0.180982, Train accuracy: 0.943862, Val accuracy: 0.918982\n",
      "Average loss: 0.180512, Train accuracy: 0.945449, Val accuracy: 0.919050\n",
      "Average loss: 0.178984, Train accuracy: 0.944664, Val accuracy: 0.920756\n",
      "Average loss: 0.178263, Train accuracy: 0.945449, Val accuracy: 0.918436\n",
      "lr: 0.010000, wd: 0.000010\n",
      "Average loss: 0.175458, Train accuracy: 0.945620, Val accuracy: 0.919186\n",
      "Average loss: 0.178110, Train accuracy: 0.944886, Val accuracy: 0.918709\n",
      "Average loss: 0.174395, Train accuracy: 0.946883, Val accuracy: 0.918163\n",
      "Average loss: 0.172908, Train accuracy: 0.946917, Val accuracy: 0.918026\n",
      "Average loss: 0.171669, Train accuracy: 0.947633, Val accuracy: 0.918845\n",
      "Average loss: 0.172510, Train accuracy: 0.945978, Val accuracy: 0.918845\n",
      "Average loss: 0.173205, Train accuracy: 0.946081, Val accuracy: 0.920210\n",
      "Average loss: 0.171550, Train accuracy: 0.947087, Val accuracy: 0.919323\n",
      "Average loss: 0.171220, Train accuracy: 0.946814, Val accuracy: 0.920620\n",
      "Average loss: 0.172968, Train accuracy: 0.947070, Val accuracy: 0.918913\n",
      "lr: 0.001000, wd: 0.001000\n",
      "Average loss: 0.163769, Train accuracy: 0.949937, Val accuracy: 0.919528\n",
      "Average loss: 0.167225, Train accuracy: 0.948589, Val accuracy: 0.919869\n",
      "Average loss: 0.167848, Train accuracy: 0.947394, Val accuracy: 0.920620\n",
      "Average loss: 0.163105, Train accuracy: 0.949732, Val accuracy: 0.920688\n",
      "Average loss: 0.166329, Train accuracy: 0.948469, Val accuracy: 0.919801\n",
      "Average loss: 0.164941, Train accuracy: 0.948964, Val accuracy: 0.918913\n",
      "Average loss: 0.166426, Train accuracy: 0.949476, Val accuracy: 0.920074\n",
      "Average loss: 0.164820, Train accuracy: 0.948725, Val accuracy: 0.919459\n",
      "Average loss: 0.165412, Train accuracy: 0.948333, Val accuracy: 0.920074\n",
      "Average loss: 0.163519, Train accuracy: 0.949544, Val accuracy: 0.919732\n",
      "lr: 0.001000, wd: 0.000100\n",
      "Average loss: 0.164419, Train accuracy: 0.948947, Val accuracy: 0.920483\n",
      "Average loss: 0.160875, Train accuracy: 0.950329, Val accuracy: 0.920278\n",
      "Average loss: 0.163782, Train accuracy: 0.949203, Val accuracy: 0.919937\n",
      "Average loss: 0.161873, Train accuracy: 0.949681, Val accuracy: 0.919869\n",
      "Average loss: 0.163124, Train accuracy: 0.949766, Val accuracy: 0.919459\n",
      "Average loss: 0.164657, Train accuracy: 0.949425, Val accuracy: 0.921029\n",
      "Average loss: 0.161930, Train accuracy: 0.950739, Val accuracy: 0.919869\n",
      "Average loss: 0.163855, Train accuracy: 0.949749, Val accuracy: 0.919664\n",
      "Average loss: 0.163892, Train accuracy: 0.949647, Val accuracy: 0.920756\n",
      "Average loss: 0.163098, Train accuracy: 0.948964, Val accuracy: 0.920005\n",
      "lr: 0.001000, wd: 0.000010\n",
      "Average loss: 0.161992, Train accuracy: 0.949954, Val accuracy: 0.919937\n",
      "Average loss: 0.161784, Train accuracy: 0.949817, Val accuracy: 0.919869\n",
      "Average loss: 0.162815, Train accuracy: 0.950346, Val accuracy: 0.920278\n",
      "Average loss: 0.162707, Train accuracy: 0.950107, Val accuracy: 0.920074\n",
      "Average loss: 0.159073, Train accuracy: 0.951319, Val accuracy: 0.919050\n",
      "Average loss: 0.162753, Train accuracy: 0.949340, Val accuracy: 0.920620\n",
      "Average loss: 0.161508, Train accuracy: 0.950415, Val accuracy: 0.920005\n",
      "Average loss: 0.160508, Train accuracy: 0.949903, Val accuracy: 0.918640\n",
      "Average loss: 0.160949, Train accuracy: 0.950261, Val accuracy: 0.918231\n",
      "Average loss: 0.162449, Train accuracy: 0.949715, Val accuracy: 0.920210\n",
      "lr: 0.000100, wd: 0.001000\n",
      "Average loss: 0.157972, Train accuracy: 0.952309, Val accuracy: 0.919255\n",
      "Average loss: 0.162321, Train accuracy: 0.949869, Val accuracy: 0.918572\n",
      "Average loss: 0.159599, Train accuracy: 0.951200, Val accuracy: 0.919801\n",
      "Average loss: 0.161858, Train accuracy: 0.950056, Val accuracy: 0.919459\n",
      "Average loss: 0.162611, Train accuracy: 0.949561, Val accuracy: 0.917890\n",
      "Average loss: 0.161889, Train accuracy: 0.950142, Val accuracy: 0.918504\n",
      "Average loss: 0.162224, Train accuracy: 0.949561, Val accuracy: 0.919391\n",
      "Average loss: 0.160845, Train accuracy: 0.949783, Val accuracy: 0.918299\n",
      "Average loss: 0.160478, Train accuracy: 0.950193, Val accuracy: 0.919869\n",
      "Average loss: 0.157341, Train accuracy: 0.951063, Val accuracy: 0.919596\n",
      "lr: 0.000100, wd: 0.000100\n",
      "Average loss: 0.158299, Train accuracy: 0.951421, Val accuracy: 0.919459\n",
      "Average loss: 0.162355, Train accuracy: 0.948760, Val accuracy: 0.919186\n",
      "Average loss: 0.159375, Train accuracy: 0.951165, Val accuracy: 0.919255\n",
      "Average loss: 0.162551, Train accuracy: 0.948964, Val accuracy: 0.919869\n",
      "Average loss: 0.161500, Train accuracy: 0.950210, Val accuracy: 0.920142\n",
      "Average loss: 0.160080, Train accuracy: 0.950193, Val accuracy: 0.920074\n",
      "Average loss: 0.158188, Train accuracy: 0.951251, Val accuracy: 0.920347\n",
      "Average loss: 0.162665, Train accuracy: 0.948879, Val accuracy: 0.920005\n",
      "Average loss: 0.160581, Train accuracy: 0.950483, Val accuracy: 0.919801\n"
     ]
    },
    {
     "name": "stdout",
     "output_type": "stream",
     "text": [
      "Average loss: 0.159448, Train accuracy: 0.949971, Val accuracy: 0.920005\n",
      "lr: 0.000100, wd: 0.000010\n",
      "Average loss: 0.158906, Train accuracy: 0.950671, Val accuracy: 0.919732\n",
      "Average loss: 0.162329, Train accuracy: 0.950278, Val accuracy: 0.919323\n",
      "Average loss: 0.158732, Train accuracy: 0.950705, Val accuracy: 0.918504\n",
      "Average loss: 0.161055, Train accuracy: 0.950363, Val accuracy: 0.920005\n",
      "Average loss: 0.160420, Train accuracy: 0.949954, Val accuracy: 0.919732\n",
      "Average loss: 0.160019, Train accuracy: 0.950500, Val accuracy: 0.919596\n",
      "Average loss: 0.160353, Train accuracy: 0.950466, Val accuracy: 0.919528\n",
      "Average loss: 0.160122, Train accuracy: 0.951268, Val accuracy: 0.918913\n",
      "Average loss: 0.160692, Train accuracy: 0.949886, Val accuracy: 0.919186\n",
      "Average loss: 0.161566, Train accuracy: 0.949084, Val accuracy: 0.917617\n",
      "Best validation accuracy: 0.92, best hyperparams: Hyperparams(learning_rate=0.001, reg=1e-05)\n"
     ]
    }
   ],
   "source": [
    "best_model = nn.Sequential(\n",
    "            nn.Conv2d(in_channels=3, out_channels=6, kernel_size=7, stride=1, padding=1),\n",
    "            nn.ReLU(inplace=True),\n",
    "            nn.BatchNorm2d(6),\n",
    "            nn.MaxPool2d(kernel_size=2),\n",
    "            nn.Conv2d(in_channels=6, out_channels=16, kernel_size=7, stride=1, padding=1),\n",
    "            nn.ReLU(inplace=True),\n",
    "            nn.BatchNorm2d(16),\n",
    "            nn.MaxPool2d(kernel_size=2), \n",
    "            nn.Conv2d(in_channels=16, out_channels=120, kernel_size=7, stride=1, padding=1),\n",
    "            nn.ReLU(inplace=True),\n",
    "            nn.BatchNorm2d(120),\n",
    "            Flattener(),\n",
    "            nn.Linear(in_features=120, out_features=84),\n",
    "            nn.ReLU(inplace=True),\n",
    "            nn.BatchNorm1d(84),\n",
    "            nn.Linear(in_features=84, out_features=10),\n",
    "          )\n",
    "if torch.cuda.is_available():\n",
    "  best_model.type(torch.cuda.FloatTensor)\n",
    "  best_model.to(device)\n",
    "else:\n",
    "  best_model.type(torch.FloatTensor)\n",
    "  \n",
    "\n",
    "tfs = transforms.Compose([\n",
    "    transforms.ColorJitter(hue=.50, saturation=.50),\n",
    "    transforms.RandomRotation(20, resample=PIL.Image.BILINEAR),\n",
    "    transforms.ToTensor(),\n",
    "    transforms.Normalize(mean=[0.43,0.44,0.47],\n",
    "                       std=[0.20,0.20,0.20])                           \n",
    "])\n",
    "\n",
    "data_aug_train = dset.SVHN('./', \n",
    "                       transform=tfs\n",
    "                      )\n",
    "\n",
    "train_aug_loader = torch.utils.data.DataLoader(data_aug_train, batch_size=batch_size, \n",
    "                                           sampler=train_sampler)\n",
    "\n",
    "Hyperparams = namedtuple(\"Hyperparams\", ['learning_rate', 'reg'])\n",
    "RunResult = namedtuple(\"RunResult\", ['model', 'train_history', 'val_history', 'final_val_accuracy'])\n",
    "run_record = {} \n",
    "learning_rates = [1e-1, 1e-2, 1e-3, 1e-4]\n",
    "reg = [1e-3, 1e-4, 1e-5]\n",
    "\n",
    "loss = nn.CrossEntropyLoss().type(torch.cuda.FloatTensor)\n",
    "for learning_rate in learning_rates:\n",
    "    for wd in reg:\n",
    "        print(\"lr: %f, wd: %f\" % (learning_rate, wd))\n",
    "        optimizer = optim.SGD(best_model.parameters(), lr=learning_rate, weight_decay=wd)\n",
    "        loss_history, train_history, val_history = train_model(best_model, train_aug_loader, val_loader, loss, optimizer, 10)\n",
    "        run_record[Hyperparams(learning_rate, wd)] = RunResult(best_model, train_history, val_history, val_history[-1])\n",
    "\n",
    "best_val_accuracy = None\n",
    "best_hyperparams = None\n",
    "for hyperparams, run_result in run_record.items():\n",
    "    if best_val_accuracy is None or best_val_accuracy < run_result.final_val_accuracy:\n",
    "        best_val_accuracy = run_result.final_val_accuracy\n",
    "        best_model = run_result.model\n",
    "        best_hyperparams = hyperparams\n",
    "\n",
    "print(\"Best validation accuracy: %4.2f, best hyperparams: %s\" % (best_val_accuracy, best_hyperparams))"
   ]
  },
  {
   "cell_type": "markdown",
   "metadata": {
    "id": "ubeKgBcnhx7N"
   },
   "source": [
    "# Финальный аккорд - проверим лучшую модель на test set\n",
    "\n",
    "В качестве разнообразия - напишите код для прогона модели на test set вы.\n",
    "\n",
    "В результате вы должны натренировать модель, которая покажет более **90%** точности на test set.  \n",
    "Как водится, лучший результат в группе получит дополнительные баллы!"
   ]
  },
  {
   "cell_type": "code",
   "execution_count": 18,
   "metadata": {
    "id": "EIqM1kdeh-hd"
   },
   "outputs": [
    {
     "name": "stdout",
     "output_type": "stream",
     "text": [
      "Final test accuracy -  0.9176165449457375\n"
     ]
    }
   ],
   "source": [
    "# TODO Write the code to compute accuracy on test set\n",
    "test_loader = torch.utils.data.DataLoader(data_test, batch_size=batch_size)\n",
    "final_test_accuracy = compute_accuracy(best_model, test_loader)\n",
    "print(\"Final test accuracy - \", final_test_accuracy)"
   ]
  },
  {
   "cell_type": "code",
   "execution_count": null,
   "metadata": {
    "id": "BfH6qip6kVX_"
   },
   "outputs": [],
   "source": []
  }
 ],
 "metadata": {
  "accelerator": "GPU",
  "colab": {
   "collapsed_sections": [],
   "name": "PyTorch_CNN.ipynb",
   "provenance": []
  },
  "kernelspec": {
   "display_name": "Python 3 (ipykernel)",
   "language": "python",
   "name": "python3"
  },
  "language_info": {
   "codemirror_mode": {
    "name": "ipython",
    "version": 3
   },
   "file_extension": ".py",
   "mimetype": "text/x-python",
   "name": "python",
   "nbconvert_exporter": "python",
   "pygments_lexer": "ipython3",
   "version": "3.8.10"
  }
 },
 "nbformat": 4,
 "nbformat_minor": 1
}
